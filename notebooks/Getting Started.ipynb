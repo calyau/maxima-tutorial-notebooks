{
 "cells": [
  {
   "cell_type": "markdown",
   "metadata": {},
   "source": [
    "**Note**: This is taken from the [Maxima Tutorial](http://maxima.sourceforge.net/docs/tutorial/en/gaertner-tutorial-revision/Contents.htm), specifically [this page](http://maxima.sourceforge.net/docs/tutorial/en/gaertner-tutorial-revision/Pages/langElem0001.htm). Same licensing applies.\n",
    "\n",
    "# Getting Started\n",
    "\n",
    "Maxima is a command-line system. You enter a command, obtain an answer and can enter the next command.\n",
    "\n",
    "A command is an expression that can be spread over many lines and is closed with a semicolon. e.g.:"
   ]
  },
  {
   "cell_type": "code",
   "execution_count": 1,
   "metadata": {},
   "outputs": [
    {
     "data": {
      "text/latex": [
       "\\[\\tag{${\\it \\%o}_{2}$}140\\]"
      ],
      "text/plain": [
       "(%o2)                                 140"
      ],
      "text/x-maxima": [
       "140"
      ]
     },
     "execution_count": 1,
     "metadata": {},
     "output_type": "execute_result"
    }
   ],
   "source": [
    "14*(7 + 3);"
   ]
  },
  {
   "cell_type": "markdown",
   "metadata": {},
   "source": [
    "Note that if you forget to enter the semicolon, you will get a parsing error:"
   ]
  },
  {
   "cell_type": "code",
   "execution_count": 2,
   "metadata": {},
   "outputs": [
    {
     "name": "stderr",
     "output_type": "stream",
     "text": [
      "parser: end of file while scanning expression."
     ]
    }
   ],
   "source": [
    "14*(7 + 3)"
   ]
  },
  {
   "cell_type": "markdown",
   "metadata": {},
   "source": [
    "You can enter an expression that contains variables:"
   ]
  },
  {
   "cell_type": "code",
   "execution_count": 3,
   "metadata": {},
   "outputs": [
    {
     "data": {
      "text/latex": [
       "\\[\\tag{${\\it \\%o}_{3}$}\\left(x-3\\right)\\,\\left(x+2\\right)\\]"
      ],
      "text/plain": [
       "(%o3)                           (x - 3) (x + 2)"
      ],
      "text/x-maxima": [
       "(x-3)*(x+2)"
      ]
     },
     "execution_count": 3,
     "metadata": {},
     "output_type": "execute_result"
    }
   ],
   "source": [
    "(x + 2)*(x - 3);"
   ]
  },
  {
   "cell_type": "markdown",
   "metadata": {},
   "source": [
    "Note that _you_ have to type an asterix to denote multiplication, whereas Maxima prefers a writing form that does not use a multiplication operator. In this, Maxima follows traditional mathematical publication notation: multiplication is implicit.\n",
    "\n",
    "Maxima answered in unsimplified form, but perhaps you would prefer to see the product expanded. This is something that you have to ask for:"
   ]
  },
  {
   "cell_type": "code",
   "execution_count": 4,
   "metadata": {},
   "outputs": [
    {
     "data": {
      "text/latex": [
       "\\[\\tag{${\\it \\%o}_{4}$}x^2-x-6\\]"
      ],
      "text/plain": [
       "                                   2\n",
       "(%o4)                             x  - x - 6"
      ],
      "text/x-maxima": [
       "x^2-x-6"
      ]
     },
     "execution_count": 4,
     "metadata": {},
     "output_type": "execute_result"
    }
   ],
   "source": [
    "expand(%);"
   ]
  },
  {
   "cell_type": "markdown",
   "metadata": {},
   "source": [
    "Note the interpretation of powers:"
   ]
  },
  {
   "cell_type": "code",
   "execution_count": 5,
   "metadata": {},
   "outputs": [
    {
     "data": {
      "text/latex": [
       "\\[\\tag{${\\it \\%o}_{5}$}x^{81}\\]"
      ],
      "text/plain": [
       "                                       81\n",
       "(%o5)                                 x"
      ],
      "text/x-maxima": [
       "x^81"
      ]
     },
     "execution_count": 5,
     "metadata": {},
     "output_type": "execute_result"
    }
   ],
   "source": [
    "x^3^4;"
   ]
  },
  {
   "cell_type": "code",
   "execution_count": 6,
   "metadata": {},
   "outputs": [
    {
     "data": {
      "text/latex": [
       "\\[\\tag{${\\it \\%o}_{6}$}x^{12}\\]"
      ],
      "text/plain": [
       "                                       12\n",
       "(%o6)                                 x"
      ],
      "text/x-maxima": [
       "x^12"
      ]
     },
     "execution_count": 6,
     "metadata": {},
     "output_type": "execute_result"
    }
   ],
   "source": [
    "(x^3)^4;"
   ]
  },
  {
   "cell_type": "markdown",
   "metadata": {},
   "source": [
    "We see that `x^3^4` is evaluated as `x^(3^4)`, not as `(x^3)^4`."
   ]
  }
 ],
 "metadata": {
  "kernelspec": {
   "display_name": "Maxima",
   "language": "maxima",
   "name": "maxima"
  },
  "language_info": {
   "codemirror_mode": "maxima",
   "file_extension": ".mac",
   "mimetype": "text/x-maxima",
   "name": "maxima",
   "pygments_lexer": "maxima",
   "version": "5.43.0"
  }
 },
 "nbformat": 4,
 "nbformat_minor": 2
}
