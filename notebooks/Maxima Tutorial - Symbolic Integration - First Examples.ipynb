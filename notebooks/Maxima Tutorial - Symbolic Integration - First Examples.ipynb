{
 "cells": [
  {
   "cell_type": "markdown",
   "metadata": {},
   "source": [
    "**Note**: This is taken from the [Maxima Tutorial](http://maxima.sourceforge.net/docs/tutorial/en/gaertner-tutorial-revision/Contents.htm), specifically [this page](http://maxima.sourceforge.net/docs/tutorial/en/gaertner-tutorial-revision/Pages/Sint0001.htm). Same licensing applies.\n",
    "\n",
    "# Symbolic Integration\n",
    "\n",
    "## First Examples\n",
    "\n",
    "On this page we consider indefinite integrals. See also [Definite Integrals](http://maxima.sourceforge.net/docs/tutorial/en/gaertner-tutorial-revision/Pages/DefInt0001.htm).\n",
    "\n",
    "Maxima can compute indefinite integrals of many functions. [Symbolic Integration](http://maxima.sourceforge.net/docs/tutorial/en/gaertner-tutorial-revision/Pages/SI001.htm) describes the algorithm for computing indefinite integrals.\n",
    "\n",
    "### Example 1"
   ]
  },
  {
   "cell_type": "code",
   "execution_count": 1,
   "metadata": {},
   "outputs": [
    {
     "data": {
      "text/latex": [
       "\\[\\tag{${\\it \\%o}_{2}$}\\frac{x}{x^3+1}\\]"
      ],
      "text/plain": [
       "                                      x\n",
       "(%o2)                               ------\n",
       "                                     3\n",
       "                                    x  + 1"
      ],
      "text/x-maxima": [
       "x/(x^3+1)"
      ]
     },
     "execution_count": 1,
     "metadata": {},
     "output_type": "execute_result"
    }
   ],
   "source": [
    "eq1: x/(x^3 + 1);"
   ]
  },
  {
   "cell_type": "code",
   "execution_count": 2,
   "metadata": {},
   "outputs": [
    {
     "data": {
      "text/latex": [
       "\\[\\tag{${\\it \\%o}_{3}$}\\frac{\\log \\left(x^2-x+1\\right)}{6}+\\frac{\\arctan \\left(\\frac{2\\,x-1}{\\sqrt{3}}\\right)}{\\sqrt{3}}-\\frac{\\log \\left(x+1\\right)}{3}\\]"
      ],
      "text/plain": [
       "                                        2 x - 1\n",
       "                      2            atan(-------)\n",
       "                 log(x  - x + 1)        sqrt(3)    log(x + 1)\n",
       "(%o3)            --------------- + ------------- - ----------\n",
       "                        6             sqrt(3)          3"
      ],
      "text/x-maxima": [
       "log(x^2-x+1)/6+atan((2*x-1)/sqrt(3))/sqrt(3)-log(x+1)/3"
      ]
     },
     "execution_count": 2,
     "metadata": {},
     "output_type": "execute_result"
    }
   ],
   "source": [
    "inteq1: integrate(eq1, x);"
   ]
  },
  {
   "cell_type": "markdown",
   "metadata": {},
   "source": [
    "To verify this result, we compute its derivative:"
   ]
  },
  {
   "cell_type": "code",
   "execution_count": 3,
   "metadata": {},
   "outputs": [
    {
     "data": {
      "text/latex": [
       "\\[\\tag{${\\it \\%o}_{4}$}\\frac{2}{3\\,\\left(\\frac{\\left(2\\,x-1\\right)^2}{3}+1\\right)}+\\frac{2\\,x-1}{6\\,\\left(x^2-x+1\\right)}-\\frac{1}{3\\,\\left(x+1\\right)}\\]"
      ],
      "text/plain": [
       "                        2               2 x - 1           1\n",
       "(%o4)           ------------------ + -------------- - ---------\n",
       "                            2            2            3 (x + 1)\n",
       "                   (2 x - 1)         6 (x  - x + 1)\n",
       "                3 (---------- + 1)\n",
       "                       3"
      ],
      "text/x-maxima": [
       "2/(3*((2*x-1)^2/3+1))+(2*x-1)/(6*(x^2-x+1))-1/(3*(x+1))"
      ]
     },
     "execution_count": 3,
     "metadata": {},
     "output_type": "execute_result"
    }
   ],
   "source": [
    "diffeq1: diff(inteq1, x);"
   ]
  },
  {
   "cell_type": "markdown",
   "metadata": {},
   "source": [
    "This is a sum of three rational expressions. Obviously, every term of the integral contributes one rational expression. We use ratsimp to bring all three expressions on a common denominator:"
   ]
  },
  {
   "cell_type": "code",
   "execution_count": 4,
   "metadata": {},
   "outputs": [
    {
     "data": {
      "text/latex": [
       "\\[\\tag{${\\it \\%o}_{5}$}\\frac{x}{x^3+1}\\]"
      ],
      "text/plain": [
       "                                      x\n",
       "(%o5)                               ------\n",
       "                                     3\n",
       "                                    x  + 1"
      ],
      "text/x-maxima": [
       "x/(x^3+1)"
      ]
     },
     "execution_count": 4,
     "metadata": {},
     "output_type": "execute_result"
    }
   ],
   "source": [
    "ratsimp(diffeq1);"
   ]
  },
  {
   "cell_type": "markdown",
   "metadata": {},
   "source": [
    "Which we can see is the same as our initial equation:"
   ]
  },
  {
   "cell_type": "code",
   "execution_count": 5,
   "metadata": {},
   "outputs": [
    {
     "data": {
      "text/latex": [
       "\\[\\tag{${\\it \\%o}_{6}$}\\frac{x}{x^3+1}\\]"
      ],
      "text/plain": [
       "                                      x\n",
       "(%o6)                               ------\n",
       "                                     3\n",
       "                                    x  + 1"
      ],
      "text/x-maxima": [
       "x/(x^3+1)"
      ]
     },
     "execution_count": 5,
     "metadata": {},
     "output_type": "execute_result"
    }
   ],
   "source": [
    "eq1;"
   ]
  },
  {
   "cell_type": "markdown",
   "metadata": {},
   "source": [
    "### Example 2\n",
    "\n",
    "Let us look at an example with trigonometric functions and exponentials:"
   ]
  },
  {
   "cell_type": "code",
   "execution_count": 6,
   "metadata": {},
   "outputs": [
    {
     "data": {
      "text/latex": [
       "\\[\\tag{${\\it \\%o}_{7}$}e^{a\\,x}\\,\\cos x\\,\\sin x\\]"
      ],
      "text/plain": [
       "                                a x\n",
       "(%o7)                         %e    cos(x) sin(x)"
      ],
      "text/x-maxima": [
       "%e^(a*x)*cos(x)*sin(x)"
      ]
     },
     "execution_count": 6,
     "metadata": {},
     "output_type": "execute_result"
    }
   ],
   "source": [
    "eq2: exp(a*x)*sin(x)*cos(x);"
   ]
  },
  {
   "cell_type": "markdown",
   "metadata": {},
   "source": [
    "We obtain:"
   ]
  },
  {
   "cell_type": "code",
   "execution_count": 7,
   "metadata": {},
   "outputs": [
    {
     "data": {
      "text/latex": [
       "\\[\\tag{${\\it \\%o}_{8}$}\\frac{e^{a\\,x}\\,\\left(a\\,\\sin \\left(2\\,x\\right)-2\\,\\cos \\left(2\\,x\\right)\\right)}{2\\,\\left(a^2+4\\right)}\\]"
      ],
      "text/plain": [
       "                          a x\n",
       "                        %e    (a sin(2 x) - 2 cos(2 x))\n",
       "(%o8)                   -------------------------------\n",
       "                                      2\n",
       "                                  2 (a  + 4)"
      ],
      "text/x-maxima": [
       "(%e^(a*x)*(a*sin(2*x)-2*cos(2*x)))/(2*(a^2+4))"
      ]
     },
     "execution_count": 7,
     "metadata": {},
     "output_type": "execute_result"
    }
   ],
   "source": [
    "inteq2: integrate(eq2, x);"
   ]
  },
  {
   "cell_type": "markdown",
   "metadata": {},
   "source": [
    "To verify the result, we compute the derivative:"
   ]
  },
  {
   "cell_type": "code",
   "execution_count": 8,
   "metadata": {},
   "outputs": [
    {
     "data": {
      "text/latex": [
       "\\[\\tag{${\\it \\%o}_{9}$}\\frac{a\\,e^{a\\,x}\\,\\left(a\\,\\sin \\left(2\\,x\\right)-2\\,\\cos \\left(2\\,x\\right)\\right)}{2\\,\\left(a^2+4\\right)}+\\frac{e^{a\\,x}\\,\\left(4\\,\\sin \\left(2\\,x\\right)+2\\,a\\,\\cos \\left(2\\,x\\right)\\right)}{2\\,\\left(a^2+4\\right)}\\]"
      ],
      "text/plain": [
       "          a x                               a x\n",
       "      a %e    (a sin(2 x) - 2 cos(2 x))   %e    (4 sin(2 x) + 2 a cos(2 x))\n",
       "(%o9) --------------------------------- + ---------------------------------\n",
       "                     2                                   2\n",
       "                 2 (a  + 4)                          2 (a  + 4)"
      ],
      "text/x-maxima": [
       "(a*%e^(a*x)*(a*sin(2*x)-2*cos(2*x)))/(2*(a^2+4))\n",
       " +(%e^(a*x)*(4*sin(2*x)+2*a*cos(2*x)))/(2*(a^2+4))"
      ]
     },
     "execution_count": 8,
     "metadata": {},
     "output_type": "execute_result"
    }
   ],
   "source": [
    "diffeq2: diff(inteq2, x);"
   ]
  },
  {
   "cell_type": "markdown",
   "metadata": {},
   "source": [
    "This answer is a surprise, but simplification gives:"
   ]
  },
  {
   "cell_type": "code",
   "execution_count": 9,
   "metadata": {},
   "outputs": [
    {
     "data": {
      "text/latex": [
       "\\[\\tag{${\\it \\%o}_{10}$}\\frac{e^{a\\,x}\\,\\sin \\left(2\\,x\\right)}{2}\\]"
      ],
      "text/plain": [
       "                                  a x\n",
       "                                %e    sin(2 x)\n",
       "(%o10)                          --------------\n",
       "                                      2"
      ],
      "text/x-maxima": [
       "(%e^(a*x)*sin(2*x))/2"
      ]
     },
     "execution_count": 9,
     "metadata": {},
     "output_type": "execute_result"
    }
   ],
   "source": [
    "simpeq2: ratsimp(diffeq2);"
   ]
  },
  {
   "cell_type": "markdown",
   "metadata": {},
   "source": [
    "To get rid of the sinus of the multiple angle, we apply `trigexpand`:"
   ]
  },
  {
   "cell_type": "code",
   "execution_count": 10,
   "metadata": {},
   "outputs": [
    {
     "data": {
      "text/latex": [
       "\\[\\tag{${\\it \\%o}_{11}$}e^{a\\,x}\\,\\cos x\\,\\sin x\\]"
      ],
      "text/plain": [
       "                                a x\n",
       "(%o11)                        %e    cos(x) sin(x)"
      ],
      "text/x-maxima": [
       "%e^(a*x)*cos(x)*sin(x)"
      ]
     },
     "execution_count": 10,
     "metadata": {},
     "output_type": "execute_result"
    }
   ],
   "source": [
    "trigexpand(simpeq2);"
   ]
  },
  {
   "cell_type": "markdown",
   "metadata": {},
   "source": [
    "Which is the same as our staring equation:"
   ]
  },
  {
   "cell_type": "code",
   "execution_count": 11,
   "metadata": {},
   "outputs": [
    {
     "data": {
      "text/latex": [
       "\\[\\tag{${\\it \\%o}_{12}$}e^{a\\,x}\\,\\cos x\\,\\sin x\\]"
      ],
      "text/plain": [
       "                                a x\n",
       "(%o12)                        %e    cos(x) sin(x)"
      ],
      "text/x-maxima": [
       "%e^(a*x)*cos(x)*sin(x)"
      ]
     },
     "execution_count": 11,
     "metadata": {},
     "output_type": "execute_result"
    }
   ],
   "source": [
    "eq2;"
   ]
  },
  {
   "cell_type": "markdown",
   "metadata": {},
   "source": [
    "### Example 3\n",
    "\n",
    "Sometimes Maxima answers the so-called 'noun form' of an integral. This tells you that Maxima was unable to find an integral:"
   ]
  },
  {
   "cell_type": "code",
   "execution_count": 12,
   "metadata": {},
   "outputs": [
    {
     "data": {
      "text/latex": [
       "\\[\\tag{${\\it \\%o}_{13}$}\\int {\\frac{1}{\\left(x-3\\right)^4+\\frac{1}{2}}}{\\;dx}\\]"
      ],
      "text/plain": [
       "                               /\n",
       "                               [      1\n",
       "(%o13)                         I ------------ dx\n",
       "                               ]        4   1\n",
       "                               / (x - 3)  + -\n",
       "                                            2"
      ],
      "text/x-maxima": [
       "'integrate(1/((x-3)^4+1/2),x)"
      ]
     },
     "execution_count": 12,
     "metadata": {},
     "output_type": "execute_result"
    }
   ],
   "source": [
    "integrate(1/((x-3)^4+1/2), x);"
   ]
  },
  {
   "cell_type": "markdown",
   "metadata": {},
   "source": [
    "Sometimes a change of the integration variable helps:"
   ]
  },
  {
   "cell_type": "code",
   "execution_count": 13,
   "metadata": {},
   "outputs": [
    {
     "data": {
      "text/latex": [
       "\\[\\tag{${\\it \\%o}_{14}$}2\\,\\int {\\frac{1}{2\\,y^4+1}}{\\;dy}\\]"
      ],
      "text/plain": [
       "                                  /\n",
       "                                  [    1\n",
       "(%o14)                          2 I -------- dy\n",
       "                                  ]    4\n",
       "                                  / 2 y  + 1"
      ],
      "text/x-maxima": [
       "2*'integrate(1/(2*y^4+1),y)"
      ]
     },
     "execution_count": 13,
     "metadata": {},
     "output_type": "execute_result"
    }
   ],
   "source": [
    "changevar (%, x - 3 - y, y, x);"
   ]
  },
  {
   "cell_type": "markdown",
   "metadata": {},
   "source": [
    "Now we can integrate:"
   ]
  },
  {
   "cell_type": "code",
   "execution_count": 14,
   "metadata": {},
   "outputs": [
    {
     "data": {
      "text/latex": [
       "\\[\\tag{${\\it \\%o}_{15}$}2\\,\\left(\\frac{\\log \\left(\\sqrt{2}\\,y^2+2^{\\frac{3}{4}}\\,y+1\\right)}{2^{\\frac{11}{4}}}-\\frac{\\log \\left(\\sqrt{2}\\,y^2-2^{\\frac{3}{4}}\\,y+1\\right)}{2^{\\frac{11}{4}}}+\\frac{\\arctan \\left(\\frac{2^{\\frac{3}{2}}\\,y+2^{\\frac{3}{4}}}{2^{\\frac{3}{4}}}\\right)}{2^{\\frac{7}{4}}}+\\frac{\\arctan \\left(\\frac{2^{\\frac{3}{2}}\\,y-2^{\\frac{3}{4}}}{2^{\\frac{3}{4}}}\\right)}{2^{\\frac{7}{4}}}\\right)\\]"
      ],
      "text/plain": [
       "                       2    3/4                       2    3/4\n",
       "          log(sqrt(2) y  + 2    y + 1)   log(sqrt(2) y  - 2    y + 1)\n",
       "(%o15) 2 (---------------------------- - ----------------------------\n",
       "                      11/4                           11/4\n",
       "                     2                              2\n",
       "                                           3/2      3/4          3/2      3/4\n",
       "                                          2    y + 2            2    y - 2\n",
       "                                     atan(-------------)   atan(-------------)\n",
       "                                               3/4                   3/4\n",
       "                                              2                     2\n",
       "                                   + ------------------- + -------------------)\n",
       "                                             7/4                   7/4\n",
       "                                            2                     2"
      ],
      "text/x-maxima": [
       "2*(log(sqrt(2)*y^2+2^(3/4)*y+1)/2^(11/4)\n",
       "  -log(sqrt(2)*y^2-2^(3/4)*y+1)/2^(11/4)\n",
       "  +atan((2^(3/2)*y+2^(3/4))/2^(3/4))/2^(7/4)\n",
       "  +atan((2^(3/2)*y-2^(3/4))/2^(3/4))/2^(7/4))"
      ]
     },
     "execution_count": 14,
     "metadata": {},
     "output_type": "execute_result"
    }
   ],
   "source": [
    "ev (%, integrate);"
   ]
  },
  {
   "cell_type": "markdown",
   "metadata": {},
   "source": [
    "Backsubstitution gives us the desired integral:"
   ]
  },
  {
   "cell_type": "code",
   "execution_count": 15,
   "metadata": {},
   "outputs": [
    {
     "data": {
      "text/latex": [
       "\\[\\tag{${\\it \\%o}_{16}$}2\\,\\left(\\frac{\\arctan \\left(\\frac{2^{\\frac{3}{2}}\\,\\left(x-3\\right)+2^{\\frac{3}{4}}}{2^{\\frac{3}{4}}}\\right)}{2^{\\frac{7}{4}}}+\\frac{\\arctan \\left(\\frac{2^{\\frac{3}{2}}\\,\\left(x-3\\right)-2^{\\frac{3}{4}}}{2^{\\frac{3}{4}}}\\right)}{2^{\\frac{7}{4}}}+\\frac{\\log \\left(2^{\\frac{3}{4}}\\,\\left(x-3\\right)+\\sqrt{2}\\,\\left(x-3\\right)^2+1\\right)}{2^{\\frac{11}{4}}}-\\frac{\\log \\left(-2^{\\frac{3}{4}}\\,\\left(x-3\\right)+\\sqrt{2}\\,\\left(x-3\\right)^2+1\\right)}{2^{\\frac{11}{4}}}\\right)\\]"
      ],
      "text/plain": [
       "                3/2            3/4          3/2            3/4\n",
       "               2    (x - 3) + 2            2    (x - 3) - 2\n",
       "          atan(-------------------)   atan(-------------------)\n",
       "                       3/4                         3/4\n",
       "                      2                           2\n",
       "(%o16) 2 (------------------------- + -------------------------\n",
       "                     7/4                         7/4\n",
       "                    2                           2\n",
       "        3/4                          2\n",
       "   log(2    (x - 3) + sqrt(2) (x - 3)  + 1)\n",
       " + ----------------------------------------\n",
       "                     11/4\n",
       "                    2\n",
       "           3/4                           2\n",
       "   log((- 2    (x - 3)) + sqrt(2) (x - 3)  + 1)\n",
       " - --------------------------------------------)\n",
       "                       11/4\n",
       "                      2"
      ],
      "text/x-maxima": [
       "2*(atan((2^(3/2)*(x-3)+2^(3/4))/2^(3/4))/2^(7/4)\n",
       "  +atan((2^(3/2)*(x-3)-2^(3/4))/2^(3/4))/2^(7/4)\n",
       "  +log(2^(3/4)*(x-3)+sqrt(2)*(x-3)^2+1)/2^(11/4)\n",
       "  -log((-2^(3/4)*(x-3))+sqrt(2)*(x-3)^2+1)/2^(11/4))"
      ]
     },
     "execution_count": 15,
     "metadata": {},
     "output_type": "execute_result"
    }
   ],
   "source": [
    "sfx: %, y=x-3;"
   ]
  },
  {
   "cell_type": "markdown",
   "metadata": {},
   "source": [
    "The integrand is an everywhere positive function. For such functions we can evaluate the integral at the limits of a definite integral to obtain its value. To compute:"
   ]
  },
  {
   "cell_type": "code",
   "execution_count": 16,
   "metadata": {},
   "outputs": [
    {
     "data": {
      "text/latex": [
       "\\[\\tag{${\\it \\%o}_{17}$}\\int_{0}^{1}{\\frac{1}{\\left(x-3\\right)^4+\\frac{1}{2}}\\;dx}\\]"
      ],
      "text/plain": [
       "                               1\n",
       "                              /\n",
       "                              [       1\n",
       "(%o17)                        I  ------------ dx\n",
       "                              ]         4   1\n",
       "                              /  (x - 3)  + -\n",
       "                               0            2"
      ],
      "text/x-maxima": [
       "'integrate(1/((x-3)^4+1/2),x,0,1)"
      ]
     },
     "execution_count": 16,
     "metadata": {},
     "output_type": "execute_result"
    }
   ],
   "source": [
    "'integrate(1/((x-3)^4+1/2), x,0, 1);"
   ]
  },
  {
   "cell_type": "markdown",
   "metadata": {},
   "source": [
    "we can write the following expression, which uses substitution to evaluate the indefinite integral at the limits of the definite integral:"
   ]
  },
  {
   "cell_type": "code",
   "execution_count": 17,
   "metadata": {},
   "outputs": [
    {
     "data": {
      "text/latex": [
       "\\[\\tag{${\\it \\%o}_{18}$}-\\frac{2^{\\frac{1}{4}}\\,\\log \\left(2^{\\frac{5}{2}}+2^{\\frac{7}{4}}+1\\right)-2^{\\frac{1}{4}}\\,\\log \\left(2^{\\frac{5}{2}}-2^{\\frac{7}{4}}+1\\right)+2^{\\frac{5}{4}}\\,\\arctan \\left(\\frac{2^{\\frac{5}{2}}+2^{\\frac{3}{4}}}{2^{\\frac{3}{4}}}\\right)+2^{\\frac{5}{4}}\\,\\arctan \\left(\\frac{2^{\\frac{5}{2}}-2^{\\frac{3}{4}}}{2^{\\frac{3}{4}}}\\right)-2^{\\frac{5}{4}}\\,\\arctan \\left(\\frac{3\\,2^{\\frac{3}{2}}+2^{\\frac{3}{4}}}{2^{\\frac{3}{4}}}\\right)-2^{\\frac{5}{4}}\\,\\arctan \\left(\\frac{3\\,2^{\\frac{3}{2}}-2^{\\frac{3}{4}}}{2^{\\frac{3}{4}}}\\right)-2^{\\frac{1}{4}}\\,\\log \\left(3\\,2^{\\frac{3}{4}}+9\\,\\sqrt{2}+1\\right)+2^{\\frac{1}{4}}\\,\\log \\left(-3\\,2^{\\frac{3}{4}}+9\\,\\sqrt{2}+1\\right)}{4}\\]"
      ],
      "text/plain": [
       "           1/4      5/2    7/4         1/4      5/2    7/4\n",
       "(%o18) - (2    log(2    + 2    + 1) - 2    log(2    - 2    + 1)\n",
       "              5/2    3/4               5/2    3/4                 3/2    3/4\n",
       "    5/4      2    + 2        5/4      2    - 2        5/4      3 2    + 2\n",
       " + 2    atan(-----------) + 2    atan(-----------) - 2    atan(-------------)\n",
       "                 3/4                      3/4                       3/4\n",
       "                2                        2                         2\n",
       "                3/2    3/4\n",
       "    5/4      3 2    - 2        1/4        3/4\n",
       " - 2    atan(-------------) - 2    log(3 2    + 9 sqrt(2) + 1)\n",
       "                  3/4\n",
       "                 2\n",
       "    1/4           3/4\n",
       " + 2    log((- 3 2   ) + 9 sqrt(2) + 1))/4"
      ],
      "text/x-maxima": [
       "-(2^(1/4)*log(2^(5/2)+2^(7/4)+1)-2^(1/4)*log(2^(5/2)-2^(7/4)+1)\n",
       "                                +2^(5/4)*atan((2^(5/2)+2^(3/4))/2^(3/4))\n",
       "                                +2^(5/4)*atan((2^(5/2)-2^(3/4))/2^(3/4))\n",
       "                                -2^(5/4)*atan((3*2^(3/2)+2^(3/4))/2^(3/4))\n",
       "                                -2^(5/4)*atan((3*2^(3/2)-2^(3/4))/2^(3/4))\n",
       "                                -2^(1/4)*log(3*2^(3/4)+9*sqrt(2)+1)\n",
       "                                +2^(1/4)*log((-3*2^(3/4))+9*sqrt(2)+1))\n",
       " /4"
      ]
     },
     "execution_count": 17,
     "metadata": {},
     "output_type": "execute_result"
    }
   ],
   "source": [
    "ratsimp(subst (1, x, sfx) - subst(0, x, sfx));"
   ]
  },
  {
   "cell_type": "markdown",
   "metadata": {},
   "source": [
    "The numerical value is:"
   ]
  },
  {
   "cell_type": "code",
   "execution_count": 18,
   "metadata": {},
   "outputs": [
    {
     "data": {
      "text/latex": [
       "\\[\\tag{${\\it \\%o}_{19}$}0.02880633385273856\\]"
      ],
      "text/plain": [
       "(%o19)                        0.02880633385273856"
      ],
      "text/x-maxima": [
       "0.02880633385273856"
      ]
     },
     "execution_count": 18,
     "metadata": {},
     "output_type": "execute_result"
    }
   ],
   "source": [
    "float(%);"
   ]
  },
  {
   "cell_type": "markdown",
   "metadata": {},
   "source": [
    "Numerical integration with the Romberg method confirms that result:"
   ]
  },
  {
   "cell_type": "code",
   "execution_count": 19,
   "metadata": {},
   "outputs": [
    {
     "data": {
      "text/latex": [
       "\\[\\tag{${\\it \\%o}_{20}$}0.02880633392455378\\]"
      ],
      "text/plain": [
       "(%o20)                        0.02880633392455378"
      ],
      "text/x-maxima": [
       "0.02880633392455378"
      ]
     },
     "execution_count": 19,
     "metadata": {},
     "output_type": "execute_result"
    }
   ],
   "source": [
    "romberg(1/((x-3)^4+1/2), x,0, 1);"
   ]
  },
  {
   "cell_type": "markdown",
   "metadata": {},
   "source": [
    "### Example 4\n",
    "\n",
    "The following example shows how an integrand of the form `f(x)*f'(x)` is handled:"
   ]
  },
  {
   "cell_type": "code",
   "execution_count": 20,
   "metadata": {},
   "outputs": [
    {
     "data": {
      "text/latex": [
       "\\[\\tag{${\\it \\%o}_{21}$}\\left(3\\,x^2+2\\,x\\right)\\,\\left(x^3+x^2\\right)^2\\]"
      ],
      "text/plain": [
       "                                2          3    2 2\n",
       "(%o21)                      (3 x  + 2 x) (x  + x )"
      ],
      "text/x-maxima": [
       "(3*x^2+2*x)*(x^3+x^2)^2"
      ]
     },
     "execution_count": 20,
     "metadata": {},
     "output_type": "execute_result"
    }
   ],
   "source": [
    "p: (x^3 + x^2)^2*(3*x^2 + 2*x);"
   ]
  },
  {
   "cell_type": "code",
   "execution_count": 21,
   "metadata": {},
   "outputs": [
    {
     "data": {
      "text/latex": [
       "\\[\\tag{${\\it \\%o}_{22}$}3\\,x^8+8\\,x^7+7\\,x^6+2\\,x^5\\]"
      ],
      "text/plain": [
       "                              8      7      6      5\n",
       "(%o22)                     3 x  + 8 x  + 7 x  + 2 x"
      ],
      "text/x-maxima": [
       "3*x^8+8*x^7+7*x^6+2*x^5"
      ]
     },
     "execution_count": 21,
     "metadata": {},
     "output_type": "execute_result"
    }
   ],
   "source": [
    "p2: expand(p);"
   ]
  },
  {
   "cell_type": "code",
   "execution_count": 22,
   "metadata": {},
   "outputs": [
    {
     "data": {
      "text/latex": [
       "\\[\\tag{${\\it \\%o}_{23}$}\\frac{\\left(6\\,x^3+6\\,x^2\\right)\\,\\sin \\left(3\\,x^3+3\\,x^2\\right)+\\left(-9\\,x^6-18\\,x^5-9\\,x^4+2\\right)\\,\\cos \\left(3\\,x^3+3\\,x^2\\right)+\\left(54\\,x^3+54\\,x^2\\right)\\,\\sin \\left(x^3+x^2\\right)+\\left(-27\\,x^6-54\\,x^5-27\\,x^4+54\\right)\\,\\cos \\left(x^3+x^2\\right)}{54}\\]"
      ],
      "text/plain": [
       "            3      2         3      2           6        5      4\n",
       "(%o23) ((6 x  + 6 x ) sin(3 x  + 3 x ) + ((- 9 x ) - 18 x  - 9 x  + 2)\n",
       "        3      2         3       2       3    2\n",
       " cos(3 x  + 3 x ) + (54 x  + 54 x ) sin(x  + x )\n",
       "           6        5       4            3    2\n",
       " + ((- 27 x ) - 54 x  - 27 x  + 54) cos(x  + x ))/54"
      ],
      "text/x-maxima": [
       "((6*x^3+6*x^2)*sin(3*x^3+3*x^2)+((-9*x^6)-18*x^5-9*x^4+2)*cos(3*x^3+3*x^2)\n",
       "                               +(54*x^3+54*x^2)*sin(x^3+x^2)\n",
       "                               +((-27*x^6)-54*x^5-27*x^4+54)*cos(x^3+x^2))\n",
       " /54"
      ]
     },
     "execution_count": 22,
     "metadata": {},
     "output_type": "execute_result"
    }
   ],
   "source": [
    "integrate(p2*sin(2*x^3 + 2*x^2)*cos(x^3 + x^2),x);"
   ]
  },
  {
   "cell_type": "markdown",
   "metadata": {},
   "source": [
    "### Example 5\n",
    "\n",
    "This example shows to ways of working with integrands with simple radical extensions.\n",
    "\n",
    "The following integral can be computed:"
   ]
  },
  {
   "cell_type": "code",
   "execution_count": 23,
   "metadata": {},
   "outputs": [
    {
     "data": {
      "text/latex": [
       "\\[\\tag{${\\it \\%o}_{24}$}\\frac{1}{\\left(x^4+1\\right)^{\\frac{1}{3}}}+\\frac{2}{\\left(x^4+1\\right)^{\\frac{2}{3}}}\\]"
      ],
      "text/plain": [
       "                                1             2\n",
       "(%o24)                     ----------- + -----------\n",
       "                             4     1/3     4     2/3\n",
       "                           (x  + 1)      (x  + 1)"
      ],
      "text/x-maxima": [
       "1/(x^4+1)^(1/3)+2/(x^4+1)^(2/3)"
      ]
     },
     "execution_count": 23,
     "metadata": {},
     "output_type": "execute_result"
    }
   ],
   "source": [
    "integrate((-4*x^3*(x^4 + 1)^(2/3)\n",
    "           -16*x^3*(x^4 + 1)^(1/3))\n",
    "           /(3*x^8 +6*x^4 + 3), x);"
   ]
  },
  {
   "cell_type": "markdown",
   "metadata": {},
   "source": [
    "Simplification with `ratsimp` gives:"
   ]
  },
  {
   "cell_type": "code",
   "execution_count": 24,
   "metadata": {},
   "outputs": [
    {
     "data": {
      "text/latex": [
       "\\[\\tag{${\\it \\%o}_{25}$}\\frac{\\left(x^4+1\\right)^{\\frac{2}{3}}+2\\,\\left(x^4+1\\right)^{\\frac{1}{3}}}{x^4+1}\\]"
      ],
      "text/plain": [
       "                            4     2/3       4     1/3\n",
       "                          (x  + 1)    + 2 (x  + 1)\n",
       "(%o25)                    ---------------------------\n",
       "                                     4\n",
       "                                    x  + 1"
      ],
      "text/x-maxima": [
       "((x^4+1)^(2/3)+2*(x^4+1)^(1/3))/(x^4+1)"
      ]
     },
     "execution_count": 24,
     "metadata": {},
     "output_type": "execute_result"
    }
   ],
   "source": [
    "ratsimp(%);"
   ]
  },
  {
   "cell_type": "markdown",
   "metadata": {},
   "source": [
    "A sightly more complicated integral is solved in terms of exponentials and logarithms:"
   ]
  },
  {
   "cell_type": "code",
   "execution_count": 25,
   "metadata": {},
   "outputs": [
    {
     "data": {
      "text/latex": [
       "\\[\\tag{${\\it \\%o}_{26}$}\\frac{\\left(3\\,x^2-7\\,x+9\\right)\\,\\left(x^4+1\\right)^{\\frac{2}{3}}+\\left(2\\,x^3+4\\,x+5\\right)\\,\\left(x^4+1\\right)^{\\frac{1}{3}}}{x^4+1}\\]"
      ],
      "text/plain": [
       "              2              4     2/3       3              4     1/3\n",
       "          (3 x  - 7 x + 9) (x  + 1)    + (2 x  + 4 x + 5) (x  + 1)\n",
       "(%o26)    -----------------------------------------------------------\n",
       "                                     4\n",
       "                                    x  + 1"
      ],
      "text/x-maxima": [
       "((3*x^2-7*x+9)*(x^4+1)^(2/3)+(2*x^3+4*x+5)*(x^4+1)^(1/3))/(x^4+1)"
      ]
     },
     "execution_count": 25,
     "metadata": {},
     "output_type": "execute_result"
    }
   ],
   "source": [
    "integrate(((6*x^5 + 7*x^4 - 36*x^3 + 18*x - 21)*(x^4 + 1)^(2/3)\n",
    "           + (2*x^6 - 20*x^4 - 40*x^3 + 18*x^2 + 12)*(x^4 + 1)^(1/3))\n",
    "           /(3*x^8 +6*x^4 + 3), x);"
   ]
  },
  {
   "cell_type": "markdown",
   "metadata": {},
   "source": [
    "Here we have to use `radcan` to obtain a canonical representation of the radicals:"
   ]
  },
  {
   "cell_type": "code",
   "execution_count": 26,
   "metadata": {},
   "outputs": [
    {
     "data": {
      "text/latex": [
       "\\[\\tag{${\\it \\%o}_{27}$}\\frac{\\left(3\\,x^2-7\\,x+9\\right)\\,\\left(x^4+1\\right)^{\\frac{2}{3}}+\\left(2\\,x^3+4\\,x+5\\right)\\,\\left(x^4+1\\right)^{\\frac{1}{3}}}{x^4+1}\\]"
      ],
      "text/plain": [
       "              2              4     2/3       3              4     1/3\n",
       "          (3 x  - 7 x + 9) (x  + 1)    + (2 x  + 4 x + 5) (x  + 1)\n",
       "(%o27)    -----------------------------------------------------------\n",
       "                                     4\n",
       "                                    x  + 1"
      ],
      "text/x-maxima": [
       "((3*x^2-7*x+9)*(x^4+1)^(2/3)+(2*x^3+4*x+5)*(x^4+1)^(1/3))/(x^4+1)"
      ]
     },
     "execution_count": 26,
     "metadata": {},
     "output_type": "execute_result"
    }
   ],
   "source": [
    "radcan(%);"
   ]
  }
 ],
 "metadata": {
  "kernelspec": {
   "display_name": "Maxima",
   "language": "maxima",
   "name": "maxima"
  },
  "language_info": {
   "codemirror_mode": "maxima",
   "file_extension": ".mac",
   "mimetype": "text/x-maxima",
   "name": "maxima",
   "pygments_lexer": "maxima",
   "version": "5.43.0"
  }
 },
 "nbformat": 4,
 "nbformat_minor": 2
}
