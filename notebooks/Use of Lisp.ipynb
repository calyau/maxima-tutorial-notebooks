{
 "cells": [
  {
   "cell_type": "markdown",
   "metadata": {},
   "source": [
    "\n",
    "# Lisp and Maxima\n",
    "\n",
    "## Background\n",
    "\n",
    "Maxima is written in Common Lisp, and actually traces its lineage back to a Lisp version of the late 60s when MACSYMA was created at MIT. While you can programming Maxima's Algol-like programming languge, there is actually the ability to not only call out to Lisp, but also program in Lisp from Maxima.\n",
    "\n",
    "## Overview\n",
    "\n",
    "There are two parts of this tutorial:\n",
    "\n",
    "1. **Use of Lisp** - The first part has been taken from the [Maxima Tutorial](http://maxima.sourceforge.net/docs/tutorial/en/gaertner-tutorial-revision/Contents.htm), specifically [this page](http://maxima.sourceforge.net/docs/tutorial/en/gaertner-tutorial-revision/Pages/UseLisp0001.htm) (note the same licensing applies to this section as to its sources).\n",
    "1. **Programming in Lisp** - The second part is original and has been provided as I have learned how to to more complicated Lisp coding from inside Maxima.\n",
    "\n",
    "## Use of Lisp\n",
    "\n",
    "Maxima is written in Lisp, a really unique programming language that was developed by John McCarthy at MIT. The earliest publication about Lisp is possibly:\n",
    "\n",
    "```\n",
    "McCarthy, John:\n",
    "Recursive Functions of Symbolic Expressions and Their Computation, Part I\n",
    "Communications of the ACM, Vol. 3, April 1960, pp. 184-195\n",
    "```\n",
    "\n",
    "To enter a piece of Lisp, you write:"
   ]
  },
  {
   "cell_type": "code",
   "execution_count": 1,
   "metadata": {},
   "outputs": [
    {
     "data": {
      "text/plain": [
       "(A B C)"
      ]
     },
     "execution_count": 1,
     "metadata": {},
     "output_type": "execute_result"
    }
   ],
   "source": [
    ":lisp (list 'a 'b 'c)"
   ]
  },
  {
   "cell_type": "code",
   "execution_count": 2,
   "metadata": {},
   "outputs": [
    {
     "data": {
      "text/plain": [
       "(A B C)"
      ]
     },
     "execution_count": 2,
     "metadata": {},
     "output_type": "execute_result"
    }
   ],
   "source": [
    ":lisp '(a b c)"
   ]
  },
  {
   "cell_type": "markdown",
   "metadata": {},
   "source": [
    "To enter the Lisp mode, you write `:lisp`. The Lisp text itself must not contain a line break.\n",
    "\n",
    "If you'd like to stay in Lisp mode over the course of multiple cells, you can use `to_lisp` instead:"
   ]
  },
  {
   "cell_type": "code",
   "execution_count": 3,
   "metadata": {},
   "outputs": [
    {
     "name": "stdout",
     "output_type": "stream",
     "text": [
      "\n",
      "Type (to-maxima) to restart, ($quit) to quit Maxima.\n"
     ]
    }
   ],
   "source": [
    "to_lisp();"
   ]
  },
  {
   "cell_type": "code",
   "execution_count": 4,
   "metadata": {},
   "outputs": [
    {
     "data": {
      "text/plain": [
       "(A . B)"
      ]
     },
     "execution_count": 4,
     "metadata": {},
     "output_type": "execute_result"
    },
    {
     "data": {
      "text/plain": [
       "(A B C D E F)"
      ]
     },
     "execution_count": 4,
     "metadata": {},
     "output_type": "execute_result"
    }
   ],
   "source": [
    "(cons 'a 'b)\n",
    "(append '(a b c) '(d e f))"
   ]
  },
  {
   "cell_type": "code",
   "execution_count": 5,
   "metadata": {},
   "outputs": [
    {
     "data": {
      "text/plain": [
       "(C B A)"
      ]
     },
     "execution_count": 5,
     "metadata": {},
     "output_type": "execute_result"
    }
   ],
   "source": [
    "(reverse '(a b c))"
   ]
  },
  {
   "cell_type": "markdown",
   "metadata": {},
   "source": [
    "One you're done, you can return to standard Maxima mode with `to-maxima`:"
   ]
  },
  {
   "cell_type": "code",
   "execution_count": 6,
   "metadata": {},
   "outputs": [
    {
     "name": "stdout",
     "output_type": "stream",
     "text": [
      "Returning to Maxima\n"
     ]
    }
   ],
   "source": [
    "(to-maxima)"
   ]
  },
  {
   "cell_type": "markdown",
   "metadata": {},
   "source": [
    "## Programming in Lisp\n",
    "\n",
    "This section covers more detail on writing Lisp code within Maxima. First, though, let's start with a working example in Maxima.\n",
    "\n",
    "### Maxima Example\n",
    "\n",
    "Let's start with an example: Let's say you needed to plot points representing fixed points in a series of soltuions to this function: "
   ]
  },
  {
   "cell_type": "code",
   "execution_count": 7,
   "metadata": {},
   "outputs": [
    {
     "data": {
      "text/latex": [
       "\\[\\tag{${\\it \\%o}_{5}$}f\\left(x\\right):=x^2\\]"
      ],
      "text/plain": [
       "                                           2\n",
       "(%o5)                             f(x) := x"
      ],
      "text/x-maxima": [
       "f(x):=x^2"
      ]
     },
     "execution_count": 7,
     "metadata": {},
     "output_type": "execute_result"
    }
   ],
   "source": [
    "f(x) := x^2;"
   ]
  },
  {
   "cell_type": "markdown",
   "metadata": {},
   "source": [
    "A function that did this would need to have the following properties:\n",
    "\n",
    "* when called, compute a particular function and then use that result to call itself (again)\n",
    "* build up and finally return a data strcuture that is a list of points\n",
    "* each point in the result would be of the form `(t, y)` where `t` is \"time\" (or the step) and `y` is the result of applying the given function to the latest result\n",
    "* in order to support this, we'd need to pass as arguments to our function:\n",
    "  * an accumulator\n",
    "  * an initial (or computed) value, `x`\n",
    "  * the current iteration, `n`\n",
    "  \n",
    "To satisfy these, we might choose to use two functions, so that the user has to do less setup:"
   ]
  },
  {
   "cell_type": "code",
   "execution_count": 8,
   "metadata": {},
   "outputs": [],
   "source": [
    "f_rec(func, acc, x, n) := \n",
    "    block ([t: length(acc)],\n",
    "        (if t = n\n",
    "         then acc\n",
    "         else f_rec(func, endcons([t, func(x)], acc), func(x), n)))$\n",
    "         \n",
    "recurse(func, x, n) :=\n",
    "    f_rec(func, [[0, x]], x, n)$"
   ]
  },
  {
   "cell_type": "markdown",
   "metadata": {},
   "source": [
    "Let's try out some solutions to this function, save the data points, and then plot those:"
   ]
  },
  {
   "cell_type": "code",
   "execution_count": 9,
   "metadata": {},
   "outputs": [
    {
     "data": {
      "text/latex": [
       "\\[\\tag{${\\it \\%o}_{8}$}\\left[ \\left[ 0 , 0 \\right]  , \\left[ 1 , 0 \\right]  , \\left[ 2 , 0 \\right]  , \\left[ 3 , 0 \\right]  , \\left[ 4 , 0 \\right]  \\right] \\]"
      ],
      "text/plain": [
       "(%o8)              [[0, 0], [1, 0], [2, 0], [3, 0], [4, 0]]"
      ],
      "text/x-maxima": [
       "[[0,0],[1,0],[2,0],[3,0],[4,0]]"
      ]
     },
     "execution_count": 9,
     "metadata": {},
     "output_type": "execute_result"
    },
    {
     "data": {
      "text/latex": [
       "\\[\\tag{${\\it \\%o}_{9}$}\\left[ \\left[ 0 , 0.5 \\right]  , \\left[ 1 , 0.25 \\right]  , \\left[ 2 , 0.0625 \\right]  , \\left[ 3 , 0.00390625 \\right]  , \\left[ 4 , 1.52587890625 \\times 10^{-5} \\right]  \\right] \\]"
      ],
      "text/plain": [
       "(%o9) [[0, 0.5], [1, 0.25], [2, 0.0625], [3, 0.00390625], \n",
       "                                                         [4, 1.52587890625e-5]]"
      ],
      "text/x-maxima": [
       "[[0,0.5],[1,0.25],[2,0.0625],[3,0.00390625],[4,1.52587890625e-5]]"
      ]
     },
     "execution_count": 9,
     "metadata": {},
     "output_type": "execute_result"
    },
    {
     "data": {
      "text/latex": [
       "\\[\\tag{${\\it \\%o}_{10}$}\\left[ \\left[ 0 , 0.8 \\right]  , \\left[ 1 , 0.6400000000000001 \\right]  , \\left[ 2 , 0.4096000000000002 \\right]  , \\left[ 3 , 0.1677721600000001 \\right]  , \\left[ 4 , 0.02814749767106565 \\right]  \\right] \\]"
      ],
      "text/plain": [
       "(%o10) [[0, 0.8], [1, 0.6400000000000001], [2, 0.4096000000000002], \n",
       "                             [3, 0.1677721600000001], [4, 0.02814749767106565]]"
      ],
      "text/x-maxima": [
       "[[0,0.8],[1,0.6400000000000001],[2,0.4096000000000002],[3,0.1677721600000001],\n",
       " [4,0.02814749767106565]]"
      ]
     },
     "execution_count": 9,
     "metadata": {},
     "output_type": "execute_result"
    },
    {
     "data": {
      "text/latex": [
       "\\[\\tag{${\\it \\%o}_{11}$}\\left[ \\left[ 0 , 0.9 \\right]  , \\left[ 1 , 0.81 \\right]  , \\left[ 2 , 0.6561000000000001 \\right]  , \\left[ 3 , 0.4304672100000002 \\right]  , \\left[ 4 , 0.1853020188851842 \\right]  \\right] \\]"
      ],
      "text/plain": [
       "(%o11) [[0, 0.9], [1, 0.81], [2, 0.6561000000000001], [3, 0.4304672100000002], \n",
       "                                                       [4, 0.1853020188851842]]"
      ],
      "text/x-maxima": [
       "[[0,0.9],[1,0.81],[2,0.6561000000000001],[3,0.4304672100000002],\n",
       " [4,0.1853020188851842]]"
      ]
     },
     "execution_count": 9,
     "metadata": {},
     "output_type": "execute_result"
    },
    {
     "data": {
      "text/latex": [
       "\\[\\tag{${\\it \\%o}_{12}$}\\left[ \\left[ 0 , 1 \\right]  , \\left[ 1 , 1 \\right]  , \\left[ 2 , 1 \\right]  , \\left[ 3 , 1 \\right]  , \\left[ 4 , 1 \\right]  \\right] \\]"
      ],
      "text/plain": [
       "(%o12)             [[0, 1], [1, 1], [2, 1], [3, 1], [4, 1]]"
      ],
      "text/x-maxima": [
       "[[0,1],[1,1],[2,1],[3,1],[4,1]]"
      ]
     },
     "execution_count": 9,
     "metadata": {},
     "output_type": "execute_result"
    },
    {
     "data": {
      "text/latex": [
       "\\[\\tag{${\\it \\%o}_{13}$}\\left[ \\left[ 0 , 1.1 \\right]  , \\left[ 1 , 1.21 \\right]  , \\left[ 2 , 1.4641 \\right]  , \\left[ 3 , 2.143588810000001 \\right]  , \\left[ 4 , 4.594972986357221 \\right]  \\right] \\]"
      ],
      "text/plain": [
       "(%o13) [[0, 1.1], [1, 1.21], [2, 1.4641], [3, 2.143588810000001], \n",
       "                                                        [4, 4.594972986357221]]"
      ],
      "text/x-maxima": [
       "[[0,1.1],[1,1.21],[2,1.4641],[3,2.143588810000001],[4,4.594972986357221]]"
      ]
     },
     "execution_count": 9,
     "metadata": {},
     "output_type": "execute_result"
    },
    {
     "data": {
      "text/latex": [
       "\\[\\tag{${\\it \\%o}_{14}$}\\left[ \\left[ 0 , 1.2 \\right]  , \\left[ 1 , 1.44 \\right]  , \\left[ 2 , 2.0736 \\right]  , \\left[ 3 , 4.299816959999999 \\right]  , \\left[ 4 , 18.48842588950363 \\right]  \\right] \\]"
      ],
      "text/plain": [
       "(%o14) [[0, 1.2], [1, 1.44], [2, 2.0736], [3, 4.299816959999999], \n",
       "                                                        [4, 18.48842588950363]]"
      ],
      "text/x-maxima": [
       "[[0,1.2],[1,1.44],[2,2.0736],[3,4.299816959999999],[4,18.48842588950363]]"
      ]
     },
     "execution_count": 9,
     "metadata": {},
     "output_type": "execute_result"
    },
    {
     "data": {
      "text/latex": [
       "\\[\\tag{${\\it \\%o}_{15}$}\\left[ \\left[ 0 , 1.5 \\right]  , \\left[ 1 , 2.25 \\right]  , \\left[ 2 , 5.0625 \\right]  , \\left[ 3 , 25.62890625 \\right]  , \\left[ 4 , 656.8408355712891 \\right]  \\right] \\]"
      ],
      "text/plain": [
       "(%o15) [[0, 1.5], [1, 2.25], [2, 5.0625], [3, 25.62890625], \n",
       "                                                        [4, 656.8408355712891]]"
      ],
      "text/x-maxima": [
       "[[0,1.5],[1,2.25],[2,5.0625],[3,25.62890625],[4,656.8408355712891]]"
      ]
     },
     "execution_count": 9,
     "metadata": {},
     "output_type": "execute_result"
    }
   ],
   "source": [
    "xy0: recurse(f, 0, 5);\n",
    "xy1: recurse(f, 0.5, 5);\n",
    "xy2: recurse(f, 0.8, 5);\n",
    "xy3: recurse(f, 0.9, 5);\n",
    "xy4: recurse(f, 1, 5);\n",
    "xy5: recurse(f, 1.1, 5);\n",
    "xy6: recurse(f, 1.2, 5);\n",
    "xy7: recurse(f, 1.5, 5);"
   ]
  },
  {
   "cell_type": "code",
   "execution_count": 10,
   "metadata": {},
   "outputs": [
    {
     "data": {
      "image/svg+xml": [
       "<?xml version=\"1.0\" encoding=\"utf-8\"  standalone=\"no\"?>\n",
       "<svg \n",
       " width=\"600\" height=\"480\"\n",
       " viewBox=\"0 0 600 480\"\n",
       " xmlns=\"http://www.w3.org/2000/svg\"\n",
       " xmlns:xlink=\"http://www.w3.org/1999/xlink\"\n",
       ">\n",
       "\n",
       "<title>Gnuplot</title>\n",
       "<desc>Produced by GNUPLOT 5.2 patchlevel 7 </desc>\n",
       "\n",
       "<g id=\"gnuplot_canvas\">\n",
       "\n",
       "<rect x=\"0\" y=\"0\" width=\"600\" height=\"480\" fill=\"none\"/>\n",
       "<defs>\n",
       "\n",
       "\t<circle id='gpDot' r='0.5' stroke-width='0.5' stroke='currentColor'/>\n",
       "\t<path id='gpPt0' stroke-width='0.190' stroke='currentColor' d='M-1,0 h2 M0,-1 v2'/>\n",
       "\t<path id='gpPt1' stroke-width='0.190' stroke='currentColor' d='M-1,-1 L1,1 M1,-1 L-1,1'/>\n",
       "\t<path id='gpPt2' stroke-width='0.190' stroke='currentColor' d='M-1,0 L1,0 M0,-1 L0,1 M-1,-1 L1,1 M-1,1 L1,-1'/>\n",
       "\t<rect id='gpPt3' stroke-width='0.190' stroke='currentColor' x='-1' y='-1' width='2' height='2'/>\n",
       "\t<rect id='gpPt4' stroke-width='0.190' stroke='currentColor' fill='currentColor' x='-1' y='-1' width='2' height='2'/>\n",
       "\t<circle id='gpPt5' stroke-width='0.190' stroke='currentColor' cx='0' cy='0' r='1'/>\n",
       "\t<use xlink:href='#gpPt5' id='gpPt6' fill='currentColor' stroke='none'/>\n",
       "\t<path id='gpPt7' stroke-width='0.190' stroke='currentColor' d='M0,-1.33 L-1.33,0.67 L1.33,0.67 z'/>\n",
       "\t<use xlink:href='#gpPt7' id='gpPt8' fill='currentColor' stroke='none'/>\n",
       "\t<use xlink:href='#gpPt7' id='gpPt9' stroke='currentColor' transform='rotate(180)'/>\n",
       "\t<use xlink:href='#gpPt9' id='gpPt10' fill='currentColor' stroke='none'/>\n",
       "\t<use xlink:href='#gpPt3' id='gpPt11' stroke='currentColor' transform='rotate(45)'/>\n",
       "\t<use xlink:href='#gpPt11' id='gpPt12' fill='currentColor' stroke='none'/>\n",
       "\t<path id='gpPt13' stroke-width='0.190' stroke='currentColor' d='M0,1.330 L1.265,0.411 L0.782,-1.067 L-0.782,-1.076 L-1.265,0.411 z'/>\n",
       "\t<use xlink:href='#gpPt13' id='gpPt14' fill='currentColor' stroke='none'/>\n",
       "\t<filter id='textbox' filterUnits='objectBoundingBox' x='0' y='0' height='1' width='1'>\n",
       "\t  <feFlood flood-color='white' flood-opacity='1' result='bgnd'/>\n",
       "\t  <feComposite in='SourceGraphic' in2='bgnd' operator='atop'/>\n",
       "\t</filter>\n",
       "\t<filter id='greybox' filterUnits='objectBoundingBox' x='0' y='0' height='1' width='1'>\n",
       "\t  <feFlood flood-color='lightgrey' flood-opacity='1' result='grey'/>\n",
       "\t  <feComposite in='SourceGraphic' in2='grey' operator='atop'/>\n",
       "\t</filter>\n",
       "</defs>\n",
       "<g fill=\"none\" color=\"white\" stroke=\"currentColor\" stroke-width=\"1.00\" stroke-linecap=\"butt\" stroke-linejoin=\"miter\">\n",
       "</g>\n",
       "<g fill=\"none\" color=\"gray\" stroke=\"currentColor\" stroke-width=\"1.00\" stroke-linecap=\"butt\" stroke-linejoin=\"miter\">\n",
       "\t<path stroke='black' stroke-dasharray='2,4'  d='M53.3,423.6 L570.8,423.6  '/></g>\n",
       "<g fill=\"none\" color=\"gray\" stroke=\"currentColor\" stroke-width=\"1.00\" stroke-linecap=\"butt\" stroke-linejoin=\"miter\">\n",
       "\t<path stroke='black' stroke-dasharray='2,4'  d='M53.3,423.6 L53.3,35.5  '/></g>\n",
       "<g fill=\"none\" color=\"black\" stroke=\"currentColor\" stroke-width=\"1.00\" stroke-linecap=\"butt\" stroke-linejoin=\"miter\">\n",
       "\t<path stroke='black'  d='M53.3,35.5 L53.3,423.6 L570.8,423.6 L570.8,35.5 L53.3,35.5 Z  '/></g>\n",
       "<g fill=\"none\" color=\"black\" stroke=\"currentColor\" stroke-width=\"1.00\" stroke-linecap=\"butt\" stroke-linejoin=\"miter\">\n",
       "</g>\n",
       "\t<g id=\"gnuplot_plot_1\" ><title>discrete1</title>\n",
       "<g fill=\"none\" color=\"black\" stroke=\"currentColor\" stroke-width=\"1.00\" stroke-linecap=\"butt\" stroke-linejoin=\"miter\">\n",
       "\t<g transform=\"translate(492.4,61.1)\" stroke=\"none\" fill=\"black\" font-family=\"Arial\" font-size=\"14.00\"  text-anchor=\"end\">\n",
       "\t\t<text><tspan font-family=\"Arial\" >discrete1</tspan></text>\n",
       "\t</g>\n",
       "</g>\n",
       "<g fill=\"none\" color=\"black\" stroke=\"currentColor\" stroke-width=\"1.00\" stroke-linecap=\"butt\" stroke-linejoin=\"miter\">\n",
       "\t<path stroke='rgb(  0,   0, 255)'  d='M502.1,56.5 L551.4,56.5 M53.3,423.6 L182.7,423.6 L312.1,423.6 L441.4,423.6 L570.8,423.6  '/></g>\n",
       "\t</g>\n",
       "\t<g id=\"gnuplot_plot_2\" ><title>discrete2</title>\n",
       "<g fill=\"none\" color=\"black\" stroke=\"currentColor\" stroke-width=\"1.00\" stroke-linecap=\"butt\" stroke-linejoin=\"miter\">\n",
       "\t<g transform=\"translate(492.4,82.1)\" stroke=\"none\" fill=\"black\" font-family=\"Arial\" font-size=\"14.00\"  text-anchor=\"end\">\n",
       "\t\t<text><tspan font-family=\"Arial\" >discrete2</tspan></text>\n",
       "\t</g>\n",
       "</g>\n",
       "<g fill=\"none\" color=\"black\" stroke=\"currentColor\" stroke-width=\"1.00\" stroke-linecap=\"butt\" stroke-linejoin=\"miter\">\n",
       "\t<path stroke='rgb(255,   0,   0)'  d='M502.1,77.5 L551.4,77.5 M53.3,404.2 L182.7,413.9 L312.1,421.2 L441.4,423.4 L570.8,423.6  '/></g>\n",
       "\t</g>\n",
       "\t<g id=\"gnuplot_plot_3\" ><title>discrete3</title>\n",
       "<g fill=\"none\" color=\"black\" stroke=\"currentColor\" stroke-width=\"1.00\" stroke-linecap=\"butt\" stroke-linejoin=\"miter\">\n",
       "\t<g transform=\"translate(492.4,103.1)\" stroke=\"none\" fill=\"black\" font-family=\"Arial\" font-size=\"14.00\"  text-anchor=\"end\">\n",
       "\t\t<text><tspan font-family=\"Arial\" >discrete3</tspan></text>\n",
       "\t</g>\n",
       "</g>\n",
       "<g fill=\"none\" color=\"black\" stroke=\"currentColor\" stroke-width=\"1.00\" stroke-linecap=\"butt\" stroke-linejoin=\"miter\">\n",
       "\t<path stroke='rgb(  0, 255,   0)'  d='M502.1,98.5 L551.4,98.5 M53.3,392.6 L182.7,398.8 L312.1,407.7 L441.4,417.1 L570.8,422.5  '/></g>\n",
       "\t</g>\n",
       "\t<g id=\"gnuplot_plot_4\" ><title>discrete4</title>\n",
       "<g fill=\"none\" color=\"black\" stroke=\"currentColor\" stroke-width=\"1.00\" stroke-linecap=\"butt\" stroke-linejoin=\"miter\">\n",
       "\t<g transform=\"translate(492.4,124.1)\" stroke=\"none\" fill=\"black\" font-family=\"Arial\" font-size=\"14.00\"  text-anchor=\"end\">\n",
       "\t\t<text><tspan font-family=\"Arial\" >discrete4</tspan></text>\n",
       "\t</g>\n",
       "</g>\n",
       "<g fill=\"none\" color=\"black\" stroke=\"currentColor\" stroke-width=\"1.00\" stroke-linecap=\"butt\" stroke-linejoin=\"miter\">\n",
       "\t<path stroke='rgb(255,   0, 255)'  d='M502.1,119.5 L551.4,119.5 M53.3,388.7 L182.7,392.2 L312.1,398.1 L441.4,406.9 L570.8,416.4  '/></g>\n",
       "\t</g>\n",
       "\t<g id=\"gnuplot_plot_5\" ><title>discrete5</title>\n",
       "<g fill=\"none\" color=\"black\" stroke=\"currentColor\" stroke-width=\"1.00\" stroke-linecap=\"butt\" stroke-linejoin=\"miter\">\n",
       "\t<g transform=\"translate(492.4,145.1)\" stroke=\"none\" fill=\"black\" font-family=\"Arial\" font-size=\"14.00\"  text-anchor=\"end\">\n",
       "\t\t<text><tspan font-family=\"Arial\" >discrete5</tspan></text>\n",
       "\t</g>\n",
       "</g>\n",
       "<g fill=\"none\" color=\"black\" stroke=\"currentColor\" stroke-width=\"1.00\" stroke-linecap=\"butt\" stroke-linejoin=\"miter\">\n",
       "\t<path stroke='rgb(  0,   0,   0)'  d='M502.1,140.5 L551.4,140.5 M53.3,384.8 L182.7,384.8 L312.1,384.8 L441.4,384.8 L570.8,384.8  '/></g>\n",
       "\t</g>\n",
       "\t<g id=\"gnuplot_plot_6\" ><title>discrete6</title>\n",
       "<g fill=\"none\" color=\"black\" stroke=\"currentColor\" stroke-width=\"1.00\" stroke-linecap=\"butt\" stroke-linejoin=\"miter\">\n",
       "\t<g transform=\"translate(492.4,166.1)\" stroke=\"none\" fill=\"black\" font-family=\"Arial\" font-size=\"14.00\"  text-anchor=\"end\">\n",
       "\t\t<text><tspan font-family=\"Arial\" >discrete6</tspan></text>\n",
       "\t</g>\n",
       "</g>\n",
       "<g fill=\"none\" color=\"black\" stroke=\"currentColor\" stroke-width=\"1.00\" stroke-linecap=\"butt\" stroke-linejoin=\"miter\">\n",
       "\t<path stroke='rgb(  0, 255, 255)'  d='M502.1,161.5 L551.4,161.5 M53.3,380.9 L182.7,376.6 L312.1,366.8 L441.4,340.4 L570.8,245.3  '/></g>\n",
       "\t</g>\n",
       "\t<g id=\"gnuplot_plot_7\" ><title>discrete7</title>\n",
       "<g fill=\"none\" color=\"black\" stroke=\"currentColor\" stroke-width=\"1.00\" stroke-linecap=\"butt\" stroke-linejoin=\"miter\">\n",
       "\t<g transform=\"translate(492.4,187.1)\" stroke=\"none\" fill=\"black\" font-family=\"Arial\" font-size=\"14.00\"  text-anchor=\"end\">\n",
       "\t\t<text><tspan font-family=\"Arial\" >discrete7</tspan></text>\n",
       "\t</g>\n",
       "</g>\n",
       "<g fill=\"none\" color=\"black\" stroke=\"currentColor\" stroke-width=\"1.00\" stroke-linecap=\"butt\" stroke-linejoin=\"miter\">\n",
       "\t<path stroke='rgb(  0,   0, 255)'  d='M502.1,182.5 L551.4,182.5 M53.3,377.0 L182.7,367.7 L312.1,343.1 L441.4,256.7 L493.3,35.5  '/></g>\n",
       "\t</g>\n",
       "\t<g id=\"gnuplot_plot_8\" ><title>discrete8</title>\n",
       "<g fill=\"none\" color=\"black\" stroke=\"currentColor\" stroke-width=\"1.00\" stroke-linecap=\"butt\" stroke-linejoin=\"miter\">\n",
       "\t<g transform=\"translate(492.4,208.1)\" stroke=\"none\" fill=\"black\" font-family=\"Arial\" font-size=\"14.00\"  text-anchor=\"end\">\n",
       "\t\t<text><tspan font-family=\"Arial\" >discrete8</tspan></text>\n",
       "\t</g>\n",
       "</g>\n",
       "<g fill=\"none\" color=\"black\" stroke=\"currentColor\" stroke-width=\"1.00\" stroke-linecap=\"butt\" stroke-linejoin=\"miter\">\n",
       "\t<path stroke='rgb(255,   0,   0)'  d='M502.1,203.5 L551.4,203.5 M53.3,365.4 L182.7,336.3 L312.1,227.1 L343.1,35.5  '/></g>\n",
       "\t</g>\n",
       "<g fill=\"none\" color=\"black\" stroke=\"currentColor\" stroke-width=\"1.00\" stroke-linecap=\"butt\" stroke-linejoin=\"miter\">\n",
       "\t<path stroke='black'  d='M53.3,423.6 L63.8,423.6 M570.8,423.6 L560.3,423.6  '/>\t<g transform=\"translate(43.6,428.2)\" stroke=\"none\" fill=\"black\" font-family=\"Arial\" font-size=\"14.00\"  text-anchor=\"end\">\n",
       "\t\t<text><tspan font-family=\"Arial\" > 0</tspan></text>\n",
       "\t</g>\n",
       "</g>\n",
       "<g fill=\"none\" color=\"black\" stroke=\"currentColor\" stroke-width=\"1.00\" stroke-linecap=\"butt\" stroke-linejoin=\"miter\">\n",
       "\t<path stroke='black'  d='M53.3,346.0 L63.8,346.0 M570.8,346.0 L560.3,346.0  '/>\t<g transform=\"translate(43.6,350.6)\" stroke=\"none\" fill=\"black\" font-family=\"Arial\" font-size=\"14.00\"  text-anchor=\"end\">\n",
       "\t\t<text><tspan font-family=\"Arial\" > 2</tspan></text>\n",
       "\t</g>\n",
       "</g>\n",
       "<g fill=\"none\" color=\"black\" stroke=\"currentColor\" stroke-width=\"1.00\" stroke-linecap=\"butt\" stroke-linejoin=\"miter\">\n",
       "\t<path stroke='black'  d='M53.3,268.4 L63.8,268.4 M570.8,268.4 L560.3,268.4  '/>\t<g transform=\"translate(43.6,273.0)\" stroke=\"none\" fill=\"black\" font-family=\"Arial\" font-size=\"14.00\"  text-anchor=\"end\">\n",
       "\t\t<text><tspan font-family=\"Arial\" > 4</tspan></text>\n",
       "\t</g>\n",
       "</g>\n",
       "<g fill=\"none\" color=\"black\" stroke=\"currentColor\" stroke-width=\"1.00\" stroke-linecap=\"butt\" stroke-linejoin=\"miter\">\n",
       "\t<path stroke='black'  d='M53.3,190.7 L63.8,190.7 M570.8,190.7 L560.3,190.7  '/>\t<g transform=\"translate(43.6,195.3)\" stroke=\"none\" fill=\"black\" font-family=\"Arial\" font-size=\"14.00\"  text-anchor=\"end\">\n",
       "\t\t<text><tspan font-family=\"Arial\" > 6</tspan></text>\n",
       "\t</g>\n",
       "</g>\n",
       "<g fill=\"none\" color=\"black\" stroke=\"currentColor\" stroke-width=\"1.00\" stroke-linecap=\"butt\" stroke-linejoin=\"miter\">\n",
       "\t<path stroke='black'  d='M53.3,113.1 L63.8,113.1 M570.8,113.1 L560.3,113.1  '/>\t<g transform=\"translate(43.6,117.7)\" stroke=\"none\" fill=\"black\" font-family=\"Arial\" font-size=\"14.00\"  text-anchor=\"end\">\n",
       "\t\t<text><tspan font-family=\"Arial\" > 8</tspan></text>\n",
       "\t</g>\n",
       "</g>\n",
       "<g fill=\"none\" color=\"black\" stroke=\"currentColor\" stroke-width=\"1.00\" stroke-linecap=\"butt\" stroke-linejoin=\"miter\">\n",
       "\t<path stroke='black'  d='M53.3,35.5 L63.8,35.5 M570.8,35.5 L560.3,35.5  '/>\t<g transform=\"translate(43.6,40.1)\" stroke=\"none\" fill=\"black\" font-family=\"Arial\" font-size=\"14.00\"  text-anchor=\"end\">\n",
       "\t\t<text><tspan font-family=\"Arial\" > 10</tspan></text>\n",
       "\t</g>\n",
       "</g>\n",
       "<g fill=\"none\" color=\"black\" stroke=\"currentColor\" stroke-width=\"1.00\" stroke-linecap=\"butt\" stroke-linejoin=\"miter\">\n",
       "\t<path stroke='black'  d='M53.3,423.6 L53.3,413.1 M53.3,35.5 L53.3,46.0  '/>\t<g transform=\"translate(53.3,449.2)\" stroke=\"none\" fill=\"black\" font-family=\"Arial\" font-size=\"14.00\"  text-anchor=\"middle\">\n",
       "\t\t<text><tspan font-family=\"Arial\" > 0</tspan></text>\n",
       "\t</g>\n",
       "</g>\n",
       "<g fill=\"none\" color=\"black\" stroke=\"currentColor\" stroke-width=\"1.00\" stroke-linecap=\"butt\" stroke-linejoin=\"miter\">\n",
       "\t<path stroke='black'  d='M118.0,423.6 L118.0,413.1 M118.0,35.5 L118.0,46.0  '/>\t<g transform=\"translate(118.0,449.2)\" stroke=\"none\" fill=\"black\" font-family=\"Arial\" font-size=\"14.00\"  text-anchor=\"middle\">\n",
       "\t\t<text><tspan font-family=\"Arial\" > 0.5</tspan></text>\n",
       "\t</g>\n",
       "</g>\n",
       "<g fill=\"none\" color=\"black\" stroke=\"currentColor\" stroke-width=\"1.00\" stroke-linecap=\"butt\" stroke-linejoin=\"miter\">\n",
       "\t<path stroke='black'  d='M182.7,423.6 L182.7,413.1 M182.7,35.5 L182.7,46.0  '/>\t<g transform=\"translate(182.7,449.2)\" stroke=\"none\" fill=\"black\" font-family=\"Arial\" font-size=\"14.00\"  text-anchor=\"middle\">\n",
       "\t\t<text><tspan font-family=\"Arial\" > 1</tspan></text>\n",
       "\t</g>\n",
       "</g>\n",
       "<g fill=\"none\" color=\"black\" stroke=\"currentColor\" stroke-width=\"1.00\" stroke-linecap=\"butt\" stroke-linejoin=\"miter\">\n",
       "\t<path stroke='black'  d='M247.4,423.6 L247.4,413.1 M247.4,35.5 L247.4,46.0  '/>\t<g transform=\"translate(247.4,449.2)\" stroke=\"none\" fill=\"black\" font-family=\"Arial\" font-size=\"14.00\"  text-anchor=\"middle\">\n",
       "\t\t<text><tspan font-family=\"Arial\" > 1.5</tspan></text>\n",
       "\t</g>\n",
       "</g>\n",
       "<g fill=\"none\" color=\"black\" stroke=\"currentColor\" stroke-width=\"1.00\" stroke-linecap=\"butt\" stroke-linejoin=\"miter\">\n",
       "\t<path stroke='black'  d='M312.1,423.6 L312.1,413.1 M312.1,35.5 L312.1,46.0  '/>\t<g transform=\"translate(312.1,449.2)\" stroke=\"none\" fill=\"black\" font-family=\"Arial\" font-size=\"14.00\"  text-anchor=\"middle\">\n",
       "\t\t<text><tspan font-family=\"Arial\" > 2</tspan></text>\n",
       "\t</g>\n",
       "</g>\n",
       "<g fill=\"none\" color=\"black\" stroke=\"currentColor\" stroke-width=\"1.00\" stroke-linecap=\"butt\" stroke-linejoin=\"miter\">\n",
       "\t<path stroke='black'  d='M376.7,423.6 L376.7,413.1 M376.7,35.5 L376.7,46.0  '/>\t<g transform=\"translate(376.7,449.2)\" stroke=\"none\" fill=\"black\" font-family=\"Arial\" font-size=\"14.00\"  text-anchor=\"middle\">\n",
       "\t\t<text><tspan font-family=\"Arial\" > 2.5</tspan></text>\n",
       "\t</g>\n",
       "</g>\n",
       "<g fill=\"none\" color=\"black\" stroke=\"currentColor\" stroke-width=\"1.00\" stroke-linecap=\"butt\" stroke-linejoin=\"miter\">\n",
       "\t<path stroke='black'  d='M441.4,423.6 L441.4,413.1 M441.4,35.5 L441.4,46.0  '/>\t<g transform=\"translate(441.4,449.2)\" stroke=\"none\" fill=\"black\" font-family=\"Arial\" font-size=\"14.00\"  text-anchor=\"middle\">\n",
       "\t\t<text><tspan font-family=\"Arial\" > 3</tspan></text>\n",
       "\t</g>\n",
       "</g>\n",
       "<g fill=\"none\" color=\"black\" stroke=\"currentColor\" stroke-width=\"1.00\" stroke-linecap=\"butt\" stroke-linejoin=\"miter\">\n",
       "\t<path stroke='black'  d='M506.1,423.6 L506.1,413.1 M506.1,35.5 L506.1,46.0  '/>\t<g transform=\"translate(506.1,449.2)\" stroke=\"none\" fill=\"black\" font-family=\"Arial\" font-size=\"14.00\"  text-anchor=\"middle\">\n",
       "\t\t<text><tspan font-family=\"Arial\" > 3.5</tspan></text>\n",
       "\t</g>\n",
       "</g>\n",
       "<g fill=\"none\" color=\"black\" stroke=\"currentColor\" stroke-width=\"1.00\" stroke-linecap=\"butt\" stroke-linejoin=\"miter\">\n",
       "\t<path stroke='black'  d='M570.8,423.6 L570.8,413.1 M570.8,35.5 L570.8,46.0  '/>\t<g transform=\"translate(570.8,449.2)\" stroke=\"none\" fill=\"black\" font-family=\"Arial\" font-size=\"14.00\"  text-anchor=\"middle\">\n",
       "\t\t<text><tspan font-family=\"Arial\" > 4</tspan></text>\n",
       "\t</g>\n",
       "</g>\n",
       "<g fill=\"none\" color=\"black\" stroke=\"currentColor\" stroke-width=\"1.00\" stroke-linecap=\"butt\" stroke-linejoin=\"miter\">\n",
       "</g>\n",
       "<g fill=\"none\" color=\"gray\" stroke=\"currentColor\" stroke-width=\"1.00\" stroke-linecap=\"butt\" stroke-linejoin=\"miter\">\n",
       "\t<path stroke='black' stroke-dasharray='2,4'  d='M53.3,423.6 L570.8,423.6  '/></g>\n",
       "<g fill=\"none\" color=\"gray\" stroke=\"currentColor\" stroke-width=\"1.00\" stroke-linecap=\"butt\" stroke-linejoin=\"miter\">\n",
       "\t<path stroke='black' stroke-dasharray='2,4'  d='M53.3,423.6 L53.3,35.5  '/></g>\n",
       "<g fill=\"none\" color=\"gray\" stroke=\"black\" stroke-width=\"2.00\" stroke-linecap=\"butt\" stroke-linejoin=\"miter\">\n",
       "</g>\n",
       "<g fill=\"none\" color=\"black\" stroke=\"currentColor\" stroke-width=\"2.00\" stroke-linecap=\"butt\" stroke-linejoin=\"miter\">\n",
       "</g>\n",
       "<g fill=\"none\" color=\"black\" stroke=\"black\" stroke-width=\"1.00\" stroke-linecap=\"butt\" stroke-linejoin=\"miter\">\n",
       "</g>\n",
       "<g fill=\"none\" color=\"black\" stroke=\"currentColor\" stroke-width=\"1.00\" stroke-linecap=\"butt\" stroke-linejoin=\"miter\">\n",
       "\t<path stroke='black'  d='M53.3,35.5 L53.3,423.6 L570.8,423.6 L570.8,35.5 L53.3,35.5 Z  '/></g>\n",
       "<g fill=\"none\" color=\"black\" stroke=\"currentColor\" stroke-width=\"1.00\" stroke-linecap=\"butt\" stroke-linejoin=\"miter\">\n",
       "</g>\n",
       "</g>\n",
       "</svg>\n",
       "\n"
      ],
      "text/plain": [
       "/tmp/maxplot.svg"
      ]
     },
     "metadata": {},
     "output_type": "display_data"
    }
   ],
   "source": [
    "set_plot_option([svg_file, \"maxplot.svg\"])$\n",
    "plot2d([[discrete,xy0],\n",
    "        [discrete,xy1],\n",
    "        [discrete,xy2],\n",
    "        [discrete,xy3],\n",
    "        [discrete,xy4],\n",
    "        [discrete,xy5],\n",
    "        [discrete,xy6],\n",
    "        [discrete,xy7]], [x, 0, 4], [y, 0, 10])$"
   ]
  },
  {
   "cell_type": "markdown",
   "metadata": {},
   "source": [
    "### A Port to Common Lisp (in Maxima)\n",
    "\n",
    "We're going to rewrite that Maxima function in Lisp, but first let's explore the bits of Lisp we're going to need to use, as well as how working with Lisp inside Maxima is different from using Common Lisp directly.\n",
    "\n",
    "#### `endcons`?\n",
    "\n",
    "What's the closest thing to `endcons` in Lisp?"
   ]
  },
  {
   "cell_type": "code",
   "execution_count": 11,
   "metadata": {},
   "outputs": [
    {
     "data": {
      "text/latex": [
       "\\[\\tag{${\\it \\%o}_{18}$}\\left[ 1 , 2 , 3 , 4 \\right] \\]"
      ],
      "text/plain": [
       "(%o18)                           [1, 2, 3, 4]"
      ],
      "text/x-maxima": [
       "[1,2,3,4]"
      ]
     },
     "execution_count": 11,
     "metadata": {},
     "output_type": "execute_result"
    }
   ],
   "source": [
    "endcons(4, [1, 2, 3]);"
   ]
  },
  {
   "cell_type": "code",
   "execution_count": 12,
   "metadata": {},
   "outputs": [
    {
     "name": "stdout",
     "output_type": "stream",
     "text": [
      "\n",
      "Type (to-maxima) to restart, ($quit) to quit Maxima.\n"
     ]
    }
   ],
   "source": [
    "to_lisp()$"
   ]
  },
  {
   "cell_type": "code",
   "execution_count": 13,
   "metadata": {},
   "outputs": [
    {
     "data": {
      "text/plain": [
       "((1 2 3) . 4)"
      ]
     },
     "execution_count": 13,
     "metadata": {},
     "output_type": "execute_result"
    }
   ],
   "source": [
    "(list* '(1 2 3) 4)"
   ]
  },
  {
   "cell_type": "markdown",
   "metadata": {},
   "source": [
    "That's not quite what we want ... how about this?"
   ]
  },
  {
   "cell_type": "code",
   "execution_count": 14,
   "metadata": {},
   "outputs": [
    {
     "data": {
      "text/plain": [
       "(1 2 3 . 4)"
      ]
     },
     "execution_count": 14,
     "metadata": {},
     "output_type": "execute_result"
    }
   ],
   "source": [
    "(append '(1 2 3) 4)"
   ]
  },
  {
   "cell_type": "markdown",
   "metadata": {},
   "source": [
    "Closer. How about this:"
   ]
  },
  {
   "cell_type": "code",
   "execution_count": 15,
   "metadata": {},
   "outputs": [
    {
     "data": {
      "text/plain": [
       "(1 2 3 4)"
      ]
     },
     "execution_count": 15,
     "metadata": {},
     "output_type": "execute_result"
    }
   ],
   "source": [
    "(append '(1 2 3) '(4))"
   ]
  },
  {
   "cell_type": "markdown",
   "metadata": {},
   "source": [
    "We can display this in Maxima's format with the following:"
   ]
  },
  {
   "cell_type": "code",
   "execution_count": 16,
   "metadata": {},
   "outputs": [
    {
     "data": {
      "text/latex": [
       "\\[\\left[ 1 , 2 , 3 , 4 \\right] \\]"
      ],
      "text/plain": [
       "[1, 2, 3, 4]"
      ],
      "text/x-maxima": [
       "[1,2,3,4]"
      ]
     },
     "metadata": {},
     "output_type": "display_data"
    },
    {
     "data": {
      "text/plain": [
       "T"
      ]
     },
     "execution_count": 16,
     "metadata": {},
     "output_type": "execute_result"
    }
   ],
   "source": [
    "(displa `((MLIST SIMP) ,@(append '(1 2 3) '(4))))"
   ]
  },
  {
   "cell_type": "markdown",
   "metadata": {},
   "source": [
    "So we have several options here: despite the differences in results, we could make a Lisp function that used them. The one that most closely matches our Maxima function, though, is `append`."
   ]
  },
  {
   "cell_type": "code",
   "execution_count": 17,
   "metadata": {},
   "outputs": [
    {
     "name": "stdout",
     "output_type": "stream",
     "text": [
      "Returning to Maxima\n"
     ]
    }
   ],
   "source": [
    "(to-maxima)"
   ]
  },
  {
   "cell_type": "markdown",
   "metadata": {},
   "source": [
    "#### Extracting Nested Data?\n",
    "\n",
    "Tbe next thing we want to be able to do is extract the last element of our list of points, and then from that tuple, extract _its_ last element:"
   ]
  },
  {
   "cell_type": "code",
   "execution_count": 18,
   "metadata": {},
   "outputs": [
    {
     "name": "stdout",
     "output_type": "stream",
     "text": [
      "\n",
      "Type (to-maxima) to restart, ($quit) to quit Maxima.\n"
     ]
    }
   ],
   "source": [
    "to_lisp()$"
   ]
  },
  {
   "cell_type": "code",
   "execution_count": 19,
   "metadata": {},
   "outputs": [
    {
     "data": {
      "text/plain": [
       "((0 0) (1 1) (2 1) (3 2) (4 3) (5 5) (6 8))"
      ]
     },
     "execution_count": 19,
     "metadata": {},
     "output_type": "execute_result"
    }
   ],
   "source": [
    "(set 'data '((0 0) (1 1) (2 1) (3 2) (4 3) (5 5) (6 8)))"
   ]
  },
  {
   "cell_type": "code",
   "execution_count": 20,
   "metadata": {},
   "outputs": [
    {
     "data": {
      "text/plain": [
       "((0 0) (1 1) (2 1) (3 2) (4 3) (5 5) (6 8))"
      ]
     },
     "execution_count": 20,
     "metadata": {},
     "output_type": "execute_result"
    }
   ],
   "source": [
    "data"
   ]
  },
  {
   "cell_type": "code",
   "execution_count": 21,
   "metadata": {},
   "outputs": [
    {
     "data": {
      "text/plain": [
       "((6 8))"
      ]
     },
     "execution_count": 21,
     "metadata": {},
     "output_type": "execute_result"
    }
   ],
   "source": [
    "(last data)"
   ]
  },
  {
   "cell_type": "code",
   "execution_count": 22,
   "metadata": {},
   "outputs": [
    {
     "data": {
      "text/plain": [
       "((6 8))"
      ]
     },
     "execution_count": 22,
     "metadata": {},
     "output_type": "execute_result"
    }
   ],
   "source": [
    "(last (last data))"
   ]
  },
  {
   "cell_type": "markdown",
   "metadata": {},
   "source": [
    "If you're coming from Clojure, that might look like something's broken ;-) But, in fact, it's doing exaclty what it's designed to do. From the Common Lisp Hyper Spec: \n",
    "\n",
    "\"`last` returns the last n conses (not the last n elements) of list).\"\n",
    "\n",
    "So it's not really going to help us get to that last element. We do, however, have of the oldest computer function definitions at out disposal: the (in)famous `car/cdr` combinations:"
   ]
  },
  {
   "cell_type": "code",
   "execution_count": 23,
   "metadata": {},
   "outputs": [
    {
     "data": {
      "text/plain": [
       "(6 8)"
      ]
     },
     "execution_count": 23,
     "metadata": {},
     "output_type": "execute_result"
    }
   ],
   "source": [
    "(car (last data))"
   ]
  },
  {
   "cell_type": "code",
   "execution_count": 24,
   "metadata": {},
   "outputs": [
    {
     "data": {
      "text/plain": [
       "(8)"
      ]
     },
     "execution_count": 24,
     "metadata": {},
     "output_type": "execute_result"
    }
   ],
   "source": [
    "(cdr (car (last data)))"
   ]
  },
  {
   "cell_type": "markdown",
   "metadata": {},
   "source": [
    "Or the more concise alias for `(cdr (car ...))`:"
   ]
  },
  {
   "cell_type": "code",
   "execution_count": 25,
   "metadata": {},
   "outputs": [
    {
     "data": {
      "text/plain": [
       "(8)"
      ]
     },
     "execution_count": 25,
     "metadata": {},
     "output_type": "execute_result"
    }
   ],
   "source": [
    "(cdar (last data))"
   ]
  },
  {
   "cell_type": "code",
   "execution_count": 26,
   "metadata": {},
   "outputs": [
    {
     "name": "stdout",
     "output_type": "stream",
     "text": [
      "Returning to Maxima\n"
     ]
    }
   ],
   "source": [
    "(to-maxima)"
   ]
  },
  {
   "cell_type": "markdown",
   "metadata": {},
   "source": [
    "#### Recursive Functions\n",
    "\n",
    "Our Maxima function uses two functions where it might be nice to just use one. Lisp allows for the definition of functions inside of functions using `flet` (where `let` is a way of defining variables for use in a specific block of code, `flet` lets you do that for functions). However, `flet` doesn't support recursive definitions.\n",
    "\n",
    "There is another way we could do this, though: using `label`.\n",
    "\n",
    "Let's take a classic function as an example:"
   ]
  },
  {
   "cell_type": "code",
   "execution_count": 27,
   "metadata": {},
   "outputs": [
    {
     "name": "stdout",
     "output_type": "stream",
     "text": [
      "\n",
      "Type (to-maxima) to restart, ($quit) to quit Maxima.\n"
     ]
    }
   ],
   "source": [
    "to_lisp()$"
   ]
  },
  {
   "cell_type": "code",
   "execution_count": 28,
   "metadata": {},
   "outputs": [
    {
     "data": {
      "text/plain": [
       "FIB2"
      ]
     },
     "execution_count": 28,
     "metadata": {},
     "output_type": "execute_result"
    },
    {
     "data": {
      "text/plain": [
       "FIB1"
      ]
     },
     "execution_count": 28,
     "metadata": {},
     "output_type": "execute_result"
    }
   ],
   "source": [
    "(defun fib2 (n a b)\n",
    "  (if (= n 0)\n",
    "    a\n",
    "    (fib2 (- n 1) b (+ a b))))\n",
    "\n",
    "(defun fib1 (number)\n",
    "  (fib2 number 0 1))"
   ]
  },
  {
   "cell_type": "code",
   "execution_count": 29,
   "metadata": {},
   "outputs": [
    {
     "data": {
      "text/plain": [
       "0"
      ]
     },
     "execution_count": 29,
     "metadata": {},
     "output_type": "execute_result"
    },
    {
     "data": {
      "text/plain": [
       "1"
      ]
     },
     "execution_count": 29,
     "metadata": {},
     "output_type": "execute_result"
    },
    {
     "data": {
      "text/plain": [
       "8"
      ]
     },
     "execution_count": 29,
     "metadata": {},
     "output_type": "execute_result"
    },
    {
     "data": {
      "text/plain": [
       "144"
      ]
     },
     "execution_count": 29,
     "metadata": {},
     "output_type": "execute_result"
    }
   ],
   "source": [
    "(fib1 0)\n",
    "(fib1 1)\n",
    "(fib1 6)\n",
    "(fib1 12)"
   ]
  },
  {
   "cell_type": "markdown",
   "metadata": {},
   "source": [
    "Now let's see how to combine these two functions into one using `label`:"
   ]
  },
  {
   "cell_type": "code",
   "execution_count": 30,
   "metadata": {},
   "outputs": [
    {
     "data": {
      "text/plain": [
       "FIB"
      ]
     },
     "execution_count": 30,
     "metadata": {},
     "output_type": "execute_result"
    }
   ],
   "source": [
    "(defun fib (number)\n",
    "  \"Fibonacci sequence function.\"\n",
    "  (labels ((f0 (n a b)\n",
    "             (if (= n 0)\n",
    "               a\n",
    "               (f0 (- n 1) b (+ a b)))))\n",
    "    (f0 number 0 1)))"
   ]
  },
  {
   "cell_type": "code",
   "execution_count": 31,
   "metadata": {},
   "outputs": [
    {
     "data": {
      "text/plain": [
       "0"
      ]
     },
     "execution_count": 31,
     "metadata": {},
     "output_type": "execute_result"
    },
    {
     "data": {
      "text/plain": [
       "1"
      ]
     },
     "execution_count": 31,
     "metadata": {},
     "output_type": "execute_result"
    },
    {
     "data": {
      "text/plain": [
       "8"
      ]
     },
     "execution_count": 31,
     "metadata": {},
     "output_type": "execute_result"
    },
    {
     "data": {
      "text/plain": [
       "144"
      ]
     },
     "execution_count": 31,
     "metadata": {},
     "output_type": "execute_result"
    }
   ],
   "source": [
    "(fib 0)\n",
    "(fib 1)\n",
    "(fib 6)\n",
    "(fib 12)"
   ]
  },
  {
   "cell_type": "code",
   "execution_count": 32,
   "metadata": {},
   "outputs": [
    {
     "name": "stdout",
     "output_type": "stream",
     "text": [
      "Returning to Maxima\n"
     ]
    }
   ],
   "source": [
    "(to-maxima)"
   ]
  },
  {
   "cell_type": "markdown",
   "metadata": {},
   "source": [
    "#### Maxima Interop\n",
    "\n",
    "The next part is the tricky bit: how to we send results from Lisp functions back to Maxima such that those results may be used in Maxima functions?\n",
    "\n",
    "For starters, we know that a Lisp function that we want to call from Maxima will need to be prefixed with a `$`. We'll also need to use underscores instead of the more Lispy hypens in names, since Maxima can't handle hypens in function names (it always interprets the hyphen as minus sign)."
   ]
  },
  {
   "cell_type": "code",
   "execution_count": 33,
   "metadata": {},
   "outputs": [
    {
     "data": {
      "text/plain": [
       "$GET_DATA"
      ]
     },
     "execution_count": 33,
     "metadata": {},
     "output_type": "execute_result"
    },
    {
     "name": "stdout",
     "output_type": "stream",
     "text": [
      "\n",
      "Type (to-maxima) to restart, ($quit) to quit Maxima.\n",
      "Returning to Maxima\n"
     ]
    }
   ],
   "source": [
    "to_lisp()$\n",
    "\n",
    "(defun $get_data ()\n",
    "  0)\n",
    "  \n",
    "(to-maxima)"
   ]
  },
  {
   "cell_type": "code",
   "execution_count": 34,
   "metadata": {},
   "outputs": [
    {
     "data": {
      "text/latex": [
       "\\[\\tag{${\\it \\%o}_{23}$}0\\]"
      ],
      "text/plain": [
       "(%o23)                                 0"
      ],
      "text/x-maxima": [
       "0"
      ]
     },
     "execution_count": 34,
     "metadata": {},
     "output_type": "execute_result"
    }
   ],
   "source": [
    "get_data();"
   ]
  },
  {
   "cell_type": "markdown",
   "metadata": {},
   "source": [
    "Good news -- no problem returning integers!\n",
    "\n",
    "What about a list?"
   ]
  },
  {
   "cell_type": "code",
   "execution_count": 35,
   "metadata": {},
   "outputs": [
    {
     "name": "stdout",
     "output_type": "stream",
     "text": [
      "\n",
      "Type (to-maxima) to restart, ($quit) to quit Maxima.\n",
      "\n",
      "REDEFINITION-WITH-DEFUN: \n",
      "  redefining MAXIMA::$GET_DATA in DEFUN\n",
      "Returning to Maxima\n"
     ]
    },
    {
     "data": {
      "text/plain": [
       "$GET_DATA"
      ]
     },
     "execution_count": 35,
     "metadata": {},
     "output_type": "execute_result"
    },
    {
     "name": "stderr",
     "output_type": "stream",
     "text": [
      "The value\n",
      "  0\n",
      "is not of type\n",
      "  SYMBOL\n",
      "when binding SYMBOL"
     ]
    }
   ],
   "source": [
    "to_lisp()$\n",
    "\n",
    "(defun $get_data ()\n",
    "  '(0 1))\n",
    "  \n",
    "(to-maxima)\n",
    "\n",
    "get_data();"
   ]
  },
  {
   "cell_type": "markdown",
   "metadata": {},
   "source": [
    "Okay, here we're seeing a problem. We can take a hint from above when we wanted to display Lisp values formatted as Maxima values: `(MLIST SIMP)` was used to create a Maxima literal list. There are Maxima functions which may be called from Lisp, and `mlist` is one of these. Using these, we can create S-expressions that will be properly parsed by Maxima. For example:"
   ]
  },
  {
   "cell_type": "code",
   "execution_count": 36,
   "metadata": {},
   "outputs": [
    {
     "name": "stdout",
     "output_type": "stream",
     "text": [
      "\n",
      "Type (to-maxima) to restart, ($quit) to quit Maxima.\n",
      "\n",
      "REDEFINITION-WITH-DEFUN: \n",
      "  redefining MAXIMA::$GET_DATA in DEFUN\n",
      "Returning to Maxima\n"
     ]
    },
    {
     "data": {
      "text/plain": [
       "$GET_DATA"
      ]
     },
     "execution_count": 36,
     "metadata": {},
     "output_type": "execute_result"
    },
    {
     "data": {
      "text/latex": [
       "\\[\\tag{${\\it \\%o}_{27}$}\\left[ 0 , 1 \\right] \\]"
      ],
      "text/plain": [
       "(%o27)                              [0, 1]"
      ],
      "text/x-maxima": [
       "[0,1]"
      ]
     },
     "execution_count": 36,
     "metadata": {},
     "output_type": "execute_result"
    }
   ],
   "source": [
    "to_lisp()$\n",
    "\n",
    "(defun $get_data ()\n",
    "  (cons '(mlist) '(0 1)))\n",
    "  \n",
    "(to-maxima)\n",
    "\n",
    "get_data();"
   ]
  },
  {
   "cell_type": "markdown",
   "metadata": {},
   "source": [
    "Let's try again with nested data:"
   ]
  },
  {
   "cell_type": "code",
   "execution_count": 37,
   "metadata": {},
   "outputs": [
    {
     "name": "stdout",
     "output_type": "stream",
     "text": [
      "\n",
      "Type (to-maxima) to restart, ($quit) to quit Maxima.\n",
      "\n",
      "REDEFINITION-WITH-DEFUN: \n",
      "  redefining MAXIMA::$GET_DATA in DEFUN\n",
      "Returning to Maxima\n"
     ]
    },
    {
     "data": {
      "text/plain": [
       "$GET_DATA"
      ]
     },
     "execution_count": 37,
     "metadata": {},
     "output_type": "execute_result"
    },
    {
     "name": "stderr",
     "output_type": "stream",
     "text": [
      "The value\n",
      "  0\n",
      "is not of type\n",
      "  SYMBOL\n",
      "when binding SYMBOL"
     ]
    }
   ],
   "source": [
    "to_lisp()$\n",
    "\n",
    "(defun $get_data ()\n",
    "  (cons '(mlist) '((0 0) (1 1) (2 1) (3 2) (4 3) (5 5) (6 8))))\n",
    "  \n",
    "(to-maxima)\n",
    "\n",
    "get_data();"
   ]
  },
  {
   "cell_type": "markdown",
   "metadata": {},
   "source": [
    "That doesn't work, since we've now got more lists which need to be converted. To gain some insight, let's look at it from the other end: if we send the data we want to get back, what does that look like inside Lisp? We'll create a little utility function to display the data, and then give it a whirl:"
   ]
  },
  {
   "cell_type": "code",
   "execution_count": 38,
   "metadata": {},
   "outputs": [
    {
     "name": "stdout",
     "output_type": "stream",
     "text": [
      "\n",
      "Type (to-maxima) to restart, ($quit) to quit Maxima.\n",
      "Returning to Maxima\n"
     ]
    },
    {
     "data": {
      "text/plain": [
       "$SHOW_DATA"
      ]
     },
     "execution_count": 38,
     "metadata": {},
     "output_type": "execute_result"
    },
    {
     "data": {
      "text/latex": [
       "\\[\\tag{${\\it \\%o}_{31}$}\\mathbf{true}\\]"
      ],
      "text/plain": [
       "(%o31)                               true"
      ],
      "text/x-maxima": [
       "true"
      ]
     },
     "execution_count": 38,
     "metadata": {},
     "output_type": "execute_result"
    },
    {
     "name": "stdout",
     "output_type": "stream",
     "text": [
      "((MLIST SIMP) ((MLIST SIMP) 0 0) ((MLIST SIMP) 1 1) ((MLIST SIMP) 2 1)\n",
      " ((MLIST SIMP) 3 2) ((MLIST SIMP) 4 3) ((MLIST SIMP) 5 5) ((MLIST SIMP) 6 8))"
     ]
    }
   ],
   "source": [
    "to_lisp()$\n",
    "\n",
    "(defun $show_data (data)\n",
    "  (format t \"~s\" data)\n",
    "  t)\n",
    "  \n",
    "(to-maxima)\n",
    "\n",
    "show_data([[0, 0], [1, 1], [2, 1], [3, 2], [4, 3], [5, 5], [6, 8]]);"
   ]
  },
  {
   "cell_type": "markdown",
   "metadata": {},
   "source": [
    "If we try this backwards, does it work?"
   ]
  },
  {
   "cell_type": "code",
   "execution_count": 39,
   "metadata": {},
   "outputs": [
    {
     "name": "stdout",
     "output_type": "stream",
     "text": [
      "\n",
      "Type (to-maxima) to restart, ($quit) to quit Maxima.\n",
      "\n",
      "REDEFINITION-WITH-DEFUN: \n",
      "  redefining MAXIMA::$GET_DATA in DEFUN\n",
      "Returning to Maxima\n"
     ]
    },
    {
     "data": {
      "text/plain": [
       "$GET_DATA"
      ]
     },
     "execution_count": 39,
     "metadata": {},
     "output_type": "execute_result"
    },
    {
     "data": {
      "text/latex": [
       "\\[\\tag{${\\it \\%o}_{33}$}\\left[ \\left[ 0 , 0 \\right]  , \\left[ 1 , 1 \\right]  , \\left[ 2 , 1 \\right]  , \\left[ 3 , 2 \\right]  , \\left[ 4 , 3 \\right]  , \\left[ 5 , 5 \\right]  , \\left[ 6 , 8 \\right]  \\right] \\]"
      ],
      "text/plain": [
       "(%o33)     [[0, 0], [1, 1], [2, 1], [3, 2], [4, 3], [5, 5], [6, 8]]"
      ],
      "text/x-maxima": [
       "[[0,0],[1,1],[2,1],[3,2],[4,3],[5,5],[6,8]]"
      ]
     },
     "execution_count": 39,
     "metadata": {},
     "output_type": "execute_result"
    }
   ],
   "source": [
    "to_lisp()$\n",
    "\n",
    "(defun $get_data ()\n",
    "  '((MLIST SIMP) ((MLIST SIMP) 0 0) \n",
    "                 ((MLIST SIMP) 1 1) \n",
    "                 ((MLIST SIMP) 2 1)\n",
    "                 ((MLIST SIMP) 3 2) \n",
    "                 ((MLIST SIMP) 4 3) \n",
    "                 ((MLIST SIMP) 5 5) \n",
    "                 ((MLIST SIMP) 6 8)))\n",
    "\n",
    "(to-maxima)\n",
    "\n",
    "get_data();"
   ]
  },
  {
   "cell_type": "markdown",
   "metadata": {},
   "source": [
    "Excellent! We're making progress. \n",
    "\n",
    "Now, can we make this a _little_ more general?"
   ]
  },
  {
   "cell_type": "code",
   "execution_count": 40,
   "metadata": {},
   "outputs": [
    {
     "name": "stdout",
     "output_type": "stream",
     "text": [
      "\n",
      "Type (to-maxima) to restart, ($quit) to quit Maxima.\n",
      "\n",
      "REDEFINITION-WITH-DEFUN: \n",
      "  redefining MAXIMA::$GET_DATA in DEFUN\n",
      "Returning to Maxima\n"
     ]
    },
    {
     "data": {
      "text/plain": [
       "$GET_DATA"
      ]
     },
     "execution_count": 40,
     "metadata": {},
     "output_type": "execute_result"
    },
    {
     "data": {
      "text/latex": [
       "\\[\\tag{${\\it \\%o}_{35}$}\\left[ \\left[ 0 , 0 \\right]  , \\left[ 1 , 1 \\right]  , \\left[ 2 , 1 \\right]  , \\left[ 3 , 2 \\right]  , \\left[ 4 , 3 \\right]  , \\left[ 5 , 5 \\right]  , \\left[ 6 , 8 \\right]  \\right] \\]"
      ],
      "text/plain": [
       "(%o35)     [[0, 0], [1, 1], [2, 1], [3, 2], [4, 3], [5, 5], [6, 8]]"
      ],
      "text/x-maxima": [
       "[[0,0],[1,1],[2,1],[3,2],[4,3],[5,5],[6,8]]"
      ]
     },
     "execution_count": 40,
     "metadata": {},
     "output_type": "execute_result"
    }
   ],
   "source": [
    "to_lisp()$\n",
    "\n",
    "(defun $get_data ()\n",
    "  (let ((data '((0 0) (1 1) (2 1) (3 2) (4 3) (5 5) (6 8))))\n",
    "    (cons '(mlist) (map 'list (lambda (x) `((mlist) ,@x)) data))))\n",
    "\n",
    "(to-maxima)\n",
    "\n",
    "get_data();"
   ]
  },
  {
   "cell_type": "markdown",
   "metadata": {},
   "source": [
    "Good progress, and we discovered that the `SIMP` isn't really needed to get the result we're looking for.\n",
    "\n",
    "Now let's make it a function that takes Lisp tuples and returns the nested Maxima data we want:"
   ]
  },
  {
   "cell_type": "code",
   "execution_count": 41,
   "metadata": {},
   "outputs": [
    {
     "name": "stdout",
     "output_type": "stream",
     "text": [
      "\n",
      "Type (to-maxima) to restart, ($quit) to quit Maxima.\n",
      "\n",
      "REDEFINITION-WITH-DEFUN: \n",
      "  redefining MAXIMA::$GET_DATA in DEFUN\n",
      "Returning to Maxima\n"
     ]
    },
    {
     "data": {
      "text/plain": [
       "POINTS->MAXIMA"
      ]
     },
     "execution_count": 41,
     "metadata": {},
     "output_type": "execute_result"
    },
    {
     "data": {
      "text/plain": [
       "$GET_DATA"
      ]
     },
     "execution_count": 41,
     "metadata": {},
     "output_type": "execute_result"
    },
    {
     "data": {
      "text/latex": [
       "\\[\\tag{${\\it \\%o}_{37}$}\\left[ \\left[ 0 , 0 \\right]  , \\left[ 1 , 1 \\right]  , \\left[ 2 , 1 \\right]  , \\left[ 3 , 2 \\right]  , \\left[ 4 , 3 \\right]  , \\left[ 5 , 5 \\right]  , \\left[ 6 , 8 \\right]  \\right] \\]"
      ],
      "text/plain": [
       "(%o37)     [[0, 0], [1, 1], [2, 1], [3, 2], [4, 3], [5, 5], [6, 8]]"
      ],
      "text/x-maxima": [
       "[[0,0],[1,1],[2,1],[3,2],[4,3],[5,5],[6,8]]"
      ]
     },
     "execution_count": 41,
     "metadata": {},
     "output_type": "execute_result"
    }
   ],
   "source": [
    "to_lisp()$\n",
    "\n",
    "(defun points->maxima (data)\n",
    "  (cons '(mlist) \n",
    "        (map 'list (lambda (x) `((mlist) ,@x)) data)))\n",
    "\n",
    "(defun $get_data ()\n",
    "  (points->maxima `((0 0) (1 1) (2 1) (3 2) (4 3) (5 5) (6 8))))\n",
    "\n",
    "(to-maxima)\n",
    "\n",
    "get_data();"
   ]
  },
  {
   "cell_type": "markdown",
   "metadata": {},
   "source": [
    "Success! With all of that done, we're ready to rewrite the original function in Lisp ...\n",
    "\n",
    "#### The Rewrite\n",
    "\n",
    "Here's the original funtion:\n",
    "\n",
    "```maxima\n",
    "f_rec(func, acc, x, n) := \n",
    "    block ([t: length(acc)],\n",
    "        (if t = n\n",
    "         then acc\n",
    "         else f_rec(func, endcons([t, func(x)], acc), func(x), n)))$\n",
    "         \n",
    "recurse(func, x, n) :=\n",
    "    f_rec(func, [[0, x]], x, n)$\n",
    "```\n",
    "\n",
    "And here it is in Lisp:"
   ]
  },
  {
   "cell_type": "code",
   "execution_count": 42,
   "metadata": {},
   "outputs": [
    {
     "data": {
      "text/plain": [
       "$RECURSE"
      ]
     },
     "execution_count": 42,
     "metadata": {},
     "output_type": "execute_result"
    },
    {
     "name": "stdout",
     "output_type": "stream",
     "text": [
      "\n",
      "Type (to-maxima) to restart, ($quit) to quit Maxima.\n",
      "Returning to Maxima\n"
     ]
    }
   ],
   "source": [
    "to_lisp()$\n",
    "\n",
    "(defun $recurse (func x0 n)\n",
    "  (labels ((r0 (func acc n)\n",
    "    (let* ((step (length acc)))\n",
    "      (if (eql step n) \n",
    "        (points->maxima acc)\n",
    "        (let* ((args (cdar (last acc)))\n",
    "               (xn (apply func args)))\n",
    "          (r0 func (append acc `((,step ,xn))) n))))))\n",
    "   (r0 func `((0 ,x0)) n)))\n",
    "  \n",
    "(to-maxima)"
   ]
  },
  {
   "cell_type": "code",
   "execution_count": 43,
   "metadata": {},
   "outputs": [
    {
     "name": "stdout",
     "output_type": "stream",
     "text": [
      "\n",
      "Type (to-maxima) to restart, ($quit) to quit Maxima.\n",
      "Returning to Maxima\n"
     ]
    },
    {
     "data": {
      "text/plain": [
       "$SQUARED"
      ]
     },
     "execution_count": 43,
     "metadata": {},
     "output_type": "execute_result"
    },
    {
     "data": {
      "text/latex": [
       "\\[\\tag{${\\it \\%o}_{40}$}\\left[ \\left[ 0 , 0 \\right]  , \\left[ 1 , 0 \\right]  , \\left[ 2 , 0 \\right]  , \\left[ 3 , 0 \\right]  , \\left[ 4 , 0 \\right]  \\right] \\]"
      ],
      "text/plain": [
       "(%o40)             [[0, 0], [1, 0], [2, 0], [3, 0], [4, 0]]"
      ],
      "text/x-maxima": [
       "[[0,0],[1,0],[2,0],[3,0],[4,0]]"
      ]
     },
     "execution_count": 43,
     "metadata": {},
     "output_type": "execute_result"
    },
    {
     "data": {
      "text/latex": [
       "\\[\\tag{${\\it \\%o}_{41}$}\\left[ \\left[ 0 , 0.5 \\right]  , \\left[ 1 , 0.25 \\right]  , \\left[ 2 , 0.0625 \\right]  , \\left[ 3 , 0.00390625 \\right]  , \\left[ 4 , 1.52587890625 \\times 10^{-5} \\right]  \\right] \\]"
      ],
      "text/plain": [
       "(%o41) [[0, 0.5], [1, 0.25], [2, 0.0625], [3, 0.00390625], \n",
       "                                                         [4, 1.52587890625e-5]]"
      ],
      "text/x-maxima": [
       "[[0,0.5],[1,0.25],[2,0.0625],[3,0.00390625],[4,1.52587890625e-5]]"
      ]
     },
     "execution_count": 43,
     "metadata": {},
     "output_type": "execute_result"
    },
    {
     "data": {
      "text/latex": [
       "\\[\\tag{${\\it \\%o}_{42}$}\\left[ \\left[ 0 , 0.8 \\right]  , \\left[ 1 , 0.6400000000000001 \\right]  , \\left[ 2 , 0.4096000000000002 \\right]  , \\left[ 3 , 0.1677721600000001 \\right]  , \\left[ 4 , 0.02814749767106565 \\right]  \\right] \\]"
      ],
      "text/plain": [
       "(%o42) [[0, 0.8], [1, 0.6400000000000001], [2, 0.4096000000000002], \n",
       "                             [3, 0.1677721600000001], [4, 0.02814749767106565]]"
      ],
      "text/x-maxima": [
       "[[0,0.8],[1,0.6400000000000001],[2,0.4096000000000002],[3,0.1677721600000001],\n",
       " [4,0.02814749767106565]]"
      ]
     },
     "execution_count": 43,
     "metadata": {},
     "output_type": "execute_result"
    },
    {
     "data": {
      "text/latex": [
       "\\[\\tag{${\\it \\%o}_{43}$}\\left[ \\left[ 0 , 0.9 \\right]  , \\left[ 1 , 0.81 \\right]  , \\left[ 2 , 0.6561000000000001 \\right]  , \\left[ 3 , 0.4304672100000002 \\right]  , \\left[ 4 , 0.1853020188851842 \\right]  \\right] \\]"
      ],
      "text/plain": [
       "(%o43) [[0, 0.9], [1, 0.81], [2, 0.6561000000000001], [3, 0.4304672100000002], \n",
       "                                                       [4, 0.1853020188851842]]"
      ],
      "text/x-maxima": [
       "[[0,0.9],[1,0.81],[2,0.6561000000000001],[3,0.4304672100000002],\n",
       " [4,0.1853020188851842]]"
      ]
     },
     "execution_count": 43,
     "metadata": {},
     "output_type": "execute_result"
    },
    {
     "data": {
      "text/latex": [
       "\\[\\tag{${\\it \\%o}_{44}$}\\left[ \\left[ 0 , 1 \\right]  , \\left[ 1 , 1 \\right]  , \\left[ 2 , 1 \\right]  , \\left[ 3 , 1 \\right]  , \\left[ 4 , 1 \\right]  \\right] \\]"
      ],
      "text/plain": [
       "(%o44)             [[0, 1], [1, 1], [2, 1], [3, 1], [4, 1]]"
      ],
      "text/x-maxima": [
       "[[0,1],[1,1],[2,1],[3,1],[4,1]]"
      ]
     },
     "execution_count": 43,
     "metadata": {},
     "output_type": "execute_result"
    },
    {
     "data": {
      "text/latex": [
       "\\[\\tag{${\\it \\%o}_{45}$}\\left[ \\left[ 0 , 1.1 \\right]  , \\left[ 1 , 1.21 \\right]  , \\left[ 2 , 1.4641 \\right]  , \\left[ 3 , 2.143588810000001 \\right]  , \\left[ 4 , 4.594972986357221 \\right]  \\right] \\]"
      ],
      "text/plain": [
       "(%o45) [[0, 1.1], [1, 1.21], [2, 1.4641], [3, 2.143588810000001], \n",
       "                                                        [4, 4.594972986357221]]"
      ],
      "text/x-maxima": [
       "[[0,1.1],[1,1.21],[2,1.4641],[3,2.143588810000001],[4,4.594972986357221]]"
      ]
     },
     "execution_count": 43,
     "metadata": {},
     "output_type": "execute_result"
    },
    {
     "data": {
      "text/latex": [
       "\\[\\tag{${\\it \\%o}_{46}$}\\left[ \\left[ 0 , 1.2 \\right]  , \\left[ 1 , 1.44 \\right]  , \\left[ 2 , 2.0736 \\right]  , \\left[ 3 , 4.299816959999999 \\right]  , \\left[ 4 , 18.48842588950363 \\right]  \\right] \\]"
      ],
      "text/plain": [
       "(%o46) [[0, 1.2], [1, 1.44], [2, 2.0736], [3, 4.299816959999999], \n",
       "                                                        [4, 18.48842588950363]]"
      ],
      "text/x-maxima": [
       "[[0,1.2],[1,1.44],[2,2.0736],[3,4.299816959999999],[4,18.48842588950363]]"
      ]
     },
     "execution_count": 43,
     "metadata": {},
     "output_type": "execute_result"
    },
    {
     "data": {
      "text/latex": [
       "\\[\\tag{${\\it \\%o}_{47}$}\\left[ \\left[ 0 , 1.5 \\right]  , \\left[ 1 , 2.25 \\right]  , \\left[ 2 , 5.0625 \\right]  , \\left[ 3 , 25.62890625 \\right]  , \\left[ 4 , 656.8408355712891 \\right]  \\right] \\]"
      ],
      "text/plain": [
       "(%o47) [[0, 1.5], [1, 2.25], [2, 5.0625], [3, 25.62890625], \n",
       "                                                        [4, 656.8408355712891]]"
      ],
      "text/x-maxima": [
       "[[0,1.5],[1,2.25],[2,5.0625],[3,25.62890625],[4,656.8408355712891]]"
      ]
     },
     "execution_count": 43,
     "metadata": {},
     "output_type": "execute_result"
    }
   ],
   "source": [
    "to_lisp()$\n",
    "\n",
    "(defun $squared (x)\n",
    "  (* x x))\n",
    "  \n",
    "(to-maxima)\n",
    "\n",
    "xy0: recurse(squared, 0, 5);\n",
    "xy1: recurse(squared, 0.5, 5);\n",
    "xy2: recurse(squared, 0.8, 5);\n",
    "xy3: recurse(squared, 0.9, 5);\n",
    "xy4: recurse(squared, 1, 5);\n",
    "xy5: recurse(squared, 1.1, 5);\n",
    "xy6: recurse(squared, 1.2, 5);\n",
    "xy7: recurse(squared, 1.5, 5);"
   ]
  },
  {
   "cell_type": "code",
   "execution_count": 44,
   "metadata": {},
   "outputs": [
    {
     "data": {
      "image/svg+xml": [
       "<?xml version=\"1.0\" encoding=\"utf-8\"  standalone=\"no\"?>\n",
       "<svg \n",
       " width=\"600\" height=\"480\"\n",
       " viewBox=\"0 0 600 480\"\n",
       " xmlns=\"http://www.w3.org/2000/svg\"\n",
       " xmlns:xlink=\"http://www.w3.org/1999/xlink\"\n",
       ">\n",
       "\n",
       "<title>Gnuplot</title>\n",
       "<desc>Produced by GNUPLOT 5.2 patchlevel 7 </desc>\n",
       "\n",
       "<g id=\"gnuplot_canvas\">\n",
       "\n",
       "<rect x=\"0\" y=\"0\" width=\"600\" height=\"480\" fill=\"none\"/>\n",
       "<defs>\n",
       "\n",
       "\t<circle id='gpDot' r='0.5' stroke-width='0.5' stroke='currentColor'/>\n",
       "\t<path id='gpPt0' stroke-width='0.190' stroke='currentColor' d='M-1,0 h2 M0,-1 v2'/>\n",
       "\t<path id='gpPt1' stroke-width='0.190' stroke='currentColor' d='M-1,-1 L1,1 M1,-1 L-1,1'/>\n",
       "\t<path id='gpPt2' stroke-width='0.190' stroke='currentColor' d='M-1,0 L1,0 M0,-1 L0,1 M-1,-1 L1,1 M-1,1 L1,-1'/>\n",
       "\t<rect id='gpPt3' stroke-width='0.190' stroke='currentColor' x='-1' y='-1' width='2' height='2'/>\n",
       "\t<rect id='gpPt4' stroke-width='0.190' stroke='currentColor' fill='currentColor' x='-1' y='-1' width='2' height='2'/>\n",
       "\t<circle id='gpPt5' stroke-width='0.190' stroke='currentColor' cx='0' cy='0' r='1'/>\n",
       "\t<use xlink:href='#gpPt5' id='gpPt6' fill='currentColor' stroke='none'/>\n",
       "\t<path id='gpPt7' stroke-width='0.190' stroke='currentColor' d='M0,-1.33 L-1.33,0.67 L1.33,0.67 z'/>\n",
       "\t<use xlink:href='#gpPt7' id='gpPt8' fill='currentColor' stroke='none'/>\n",
       "\t<use xlink:href='#gpPt7' id='gpPt9' stroke='currentColor' transform='rotate(180)'/>\n",
       "\t<use xlink:href='#gpPt9' id='gpPt10' fill='currentColor' stroke='none'/>\n",
       "\t<use xlink:href='#gpPt3' id='gpPt11' stroke='currentColor' transform='rotate(45)'/>\n",
       "\t<use xlink:href='#gpPt11' id='gpPt12' fill='currentColor' stroke='none'/>\n",
       "\t<path id='gpPt13' stroke-width='0.190' stroke='currentColor' d='M0,1.330 L1.265,0.411 L0.782,-1.067 L-0.782,-1.076 L-1.265,0.411 z'/>\n",
       "\t<use xlink:href='#gpPt13' id='gpPt14' fill='currentColor' stroke='none'/>\n",
       "\t<filter id='textbox' filterUnits='objectBoundingBox' x='0' y='0' height='1' width='1'>\n",
       "\t  <feFlood flood-color='white' flood-opacity='1' result='bgnd'/>\n",
       "\t  <feComposite in='SourceGraphic' in2='bgnd' operator='atop'/>\n",
       "\t</filter>\n",
       "\t<filter id='greybox' filterUnits='objectBoundingBox' x='0' y='0' height='1' width='1'>\n",
       "\t  <feFlood flood-color='lightgrey' flood-opacity='1' result='grey'/>\n",
       "\t  <feComposite in='SourceGraphic' in2='grey' operator='atop'/>\n",
       "\t</filter>\n",
       "</defs>\n",
       "<g fill=\"none\" color=\"white\" stroke=\"currentColor\" stroke-width=\"1.00\" stroke-linecap=\"butt\" stroke-linejoin=\"miter\">\n",
       "</g>\n",
       "<g fill=\"none\" color=\"gray\" stroke=\"currentColor\" stroke-width=\"1.00\" stroke-linecap=\"butt\" stroke-linejoin=\"miter\">\n",
       "\t<path stroke='black' stroke-dasharray='2,4'  d='M53.3,423.6 L570.8,423.6  '/></g>\n",
       "<g fill=\"none\" color=\"gray\" stroke=\"currentColor\" stroke-width=\"1.00\" stroke-linecap=\"butt\" stroke-linejoin=\"miter\">\n",
       "\t<path stroke='black' stroke-dasharray='2,4'  d='M53.3,423.6 L53.3,35.5  '/></g>\n",
       "<g fill=\"none\" color=\"black\" stroke=\"currentColor\" stroke-width=\"1.00\" stroke-linecap=\"butt\" stroke-linejoin=\"miter\">\n",
       "\t<path stroke='black'  d='M53.3,35.5 L53.3,423.6 L570.8,423.6 L570.8,35.5 L53.3,35.5 Z  '/></g>\n",
       "<g fill=\"none\" color=\"black\" stroke=\"currentColor\" stroke-width=\"1.00\" stroke-linecap=\"butt\" stroke-linejoin=\"miter\">\n",
       "</g>\n",
       "\t<g id=\"gnuplot_plot_1\" ><title>discrete1</title>\n",
       "<g fill=\"none\" color=\"black\" stroke=\"currentColor\" stroke-width=\"1.00\" stroke-linecap=\"butt\" stroke-linejoin=\"miter\">\n",
       "\t<g transform=\"translate(492.4,61.1)\" stroke=\"none\" fill=\"black\" font-family=\"Arial\" font-size=\"14.00\"  text-anchor=\"end\">\n",
       "\t\t<text><tspan font-family=\"Arial\" >discrete1</tspan></text>\n",
       "\t</g>\n",
       "</g>\n",
       "<g fill=\"none\" color=\"black\" stroke=\"currentColor\" stroke-width=\"1.00\" stroke-linecap=\"butt\" stroke-linejoin=\"miter\">\n",
       "\t<path stroke='rgb(  0,   0, 255)'  d='M502.1,56.5 L551.4,56.5 M53.3,423.6 L182.7,423.6 L312.1,423.6 L441.4,423.6 L570.8,423.6  '/></g>\n",
       "\t</g>\n",
       "\t<g id=\"gnuplot_plot_2\" ><title>discrete2</title>\n",
       "<g fill=\"none\" color=\"black\" stroke=\"currentColor\" stroke-width=\"1.00\" stroke-linecap=\"butt\" stroke-linejoin=\"miter\">\n",
       "\t<g transform=\"translate(492.4,82.1)\" stroke=\"none\" fill=\"black\" font-family=\"Arial\" font-size=\"14.00\"  text-anchor=\"end\">\n",
       "\t\t<text><tspan font-family=\"Arial\" >discrete2</tspan></text>\n",
       "\t</g>\n",
       "</g>\n",
       "<g fill=\"none\" color=\"black\" stroke=\"currentColor\" stroke-width=\"1.00\" stroke-linecap=\"butt\" stroke-linejoin=\"miter\">\n",
       "\t<path stroke='rgb(255,   0,   0)'  d='M502.1,77.5 L551.4,77.5 M53.3,404.2 L182.7,413.9 L312.1,421.2 L441.4,423.4 L570.8,423.6  '/></g>\n",
       "\t</g>\n",
       "\t<g id=\"gnuplot_plot_3\" ><title>discrete3</title>\n",
       "<g fill=\"none\" color=\"black\" stroke=\"currentColor\" stroke-width=\"1.00\" stroke-linecap=\"butt\" stroke-linejoin=\"miter\">\n",
       "\t<g transform=\"translate(492.4,103.1)\" stroke=\"none\" fill=\"black\" font-family=\"Arial\" font-size=\"14.00\"  text-anchor=\"end\">\n",
       "\t\t<text><tspan font-family=\"Arial\" >discrete3</tspan></text>\n",
       "\t</g>\n",
       "</g>\n",
       "<g fill=\"none\" color=\"black\" stroke=\"currentColor\" stroke-width=\"1.00\" stroke-linecap=\"butt\" stroke-linejoin=\"miter\">\n",
       "\t<path stroke='rgb(  0, 255,   0)'  d='M502.1,98.5 L551.4,98.5 M53.3,392.6 L182.7,398.8 L312.1,407.7 L441.4,417.1 L570.8,422.5  '/></g>\n",
       "\t</g>\n",
       "\t<g id=\"gnuplot_plot_4\" ><title>discrete4</title>\n",
       "<g fill=\"none\" color=\"black\" stroke=\"currentColor\" stroke-width=\"1.00\" stroke-linecap=\"butt\" stroke-linejoin=\"miter\">\n",
       "\t<g transform=\"translate(492.4,124.1)\" stroke=\"none\" fill=\"black\" font-family=\"Arial\" font-size=\"14.00\"  text-anchor=\"end\">\n",
       "\t\t<text><tspan font-family=\"Arial\" >discrete4</tspan></text>\n",
       "\t</g>\n",
       "</g>\n",
       "<g fill=\"none\" color=\"black\" stroke=\"currentColor\" stroke-width=\"1.00\" stroke-linecap=\"butt\" stroke-linejoin=\"miter\">\n",
       "\t<path stroke='rgb(255,   0, 255)'  d='M502.1,119.5 L551.4,119.5 M53.3,388.7 L182.7,392.2 L312.1,398.1 L441.4,406.9 L570.8,416.4  '/></g>\n",
       "\t</g>\n",
       "\t<g id=\"gnuplot_plot_5\" ><title>discrete5</title>\n",
       "<g fill=\"none\" color=\"black\" stroke=\"currentColor\" stroke-width=\"1.00\" stroke-linecap=\"butt\" stroke-linejoin=\"miter\">\n",
       "\t<g transform=\"translate(492.4,145.1)\" stroke=\"none\" fill=\"black\" font-family=\"Arial\" font-size=\"14.00\"  text-anchor=\"end\">\n",
       "\t\t<text><tspan font-family=\"Arial\" >discrete5</tspan></text>\n",
       "\t</g>\n",
       "</g>\n",
       "<g fill=\"none\" color=\"black\" stroke=\"currentColor\" stroke-width=\"1.00\" stroke-linecap=\"butt\" stroke-linejoin=\"miter\">\n",
       "\t<path stroke='rgb(  0,   0,   0)'  d='M502.1,140.5 L551.4,140.5 M53.3,384.8 L182.7,384.8 L312.1,384.8 L441.4,384.8 L570.8,384.8  '/></g>\n",
       "\t</g>\n",
       "\t<g id=\"gnuplot_plot_6\" ><title>discrete6</title>\n",
       "<g fill=\"none\" color=\"black\" stroke=\"currentColor\" stroke-width=\"1.00\" stroke-linecap=\"butt\" stroke-linejoin=\"miter\">\n",
       "\t<g transform=\"translate(492.4,166.1)\" stroke=\"none\" fill=\"black\" font-family=\"Arial\" font-size=\"14.00\"  text-anchor=\"end\">\n",
       "\t\t<text><tspan font-family=\"Arial\" >discrete6</tspan></text>\n",
       "\t</g>\n",
       "</g>\n",
       "<g fill=\"none\" color=\"black\" stroke=\"currentColor\" stroke-width=\"1.00\" stroke-linecap=\"butt\" stroke-linejoin=\"miter\">\n",
       "\t<path stroke='rgb(  0, 255, 255)'  d='M502.1,161.5 L551.4,161.5 M53.3,380.9 L182.7,376.6 L312.1,366.8 L441.4,340.4 L570.8,245.3  '/></g>\n",
       "\t</g>\n",
       "\t<g id=\"gnuplot_plot_7\" ><title>discrete7</title>\n",
       "<g fill=\"none\" color=\"black\" stroke=\"currentColor\" stroke-width=\"1.00\" stroke-linecap=\"butt\" stroke-linejoin=\"miter\">\n",
       "\t<g transform=\"translate(492.4,187.1)\" stroke=\"none\" fill=\"black\" font-family=\"Arial\" font-size=\"14.00\"  text-anchor=\"end\">\n",
       "\t\t<text><tspan font-family=\"Arial\" >discrete7</tspan></text>\n",
       "\t</g>\n",
       "</g>\n",
       "<g fill=\"none\" color=\"black\" stroke=\"currentColor\" stroke-width=\"1.00\" stroke-linecap=\"butt\" stroke-linejoin=\"miter\">\n",
       "\t<path stroke='rgb(  0,   0, 255)'  d='M502.1,182.5 L551.4,182.5 M53.3,377.0 L182.7,367.7 L312.1,343.1 L441.4,256.7 L493.3,35.5  '/></g>\n",
       "\t</g>\n",
       "\t<g id=\"gnuplot_plot_8\" ><title>discrete8</title>\n",
       "<g fill=\"none\" color=\"black\" stroke=\"currentColor\" stroke-width=\"1.00\" stroke-linecap=\"butt\" stroke-linejoin=\"miter\">\n",
       "\t<g transform=\"translate(492.4,208.1)\" stroke=\"none\" fill=\"black\" font-family=\"Arial\" font-size=\"14.00\"  text-anchor=\"end\">\n",
       "\t\t<text><tspan font-family=\"Arial\" >discrete8</tspan></text>\n",
       "\t</g>\n",
       "</g>\n",
       "<g fill=\"none\" color=\"black\" stroke=\"currentColor\" stroke-width=\"1.00\" stroke-linecap=\"butt\" stroke-linejoin=\"miter\">\n",
       "\t<path stroke='rgb(255,   0,   0)'  d='M502.1,203.5 L551.4,203.5 M53.3,365.4 L182.7,336.3 L312.1,227.1 L343.1,35.5  '/></g>\n",
       "\t</g>\n",
       "<g fill=\"none\" color=\"black\" stroke=\"currentColor\" stroke-width=\"1.00\" stroke-linecap=\"butt\" stroke-linejoin=\"miter\">\n",
       "\t<path stroke='black'  d='M53.3,423.6 L63.8,423.6 M570.8,423.6 L560.3,423.6  '/>\t<g transform=\"translate(43.6,428.2)\" stroke=\"none\" fill=\"black\" font-family=\"Arial\" font-size=\"14.00\"  text-anchor=\"end\">\n",
       "\t\t<text><tspan font-family=\"Arial\" > 0</tspan></text>\n",
       "\t</g>\n",
       "</g>\n",
       "<g fill=\"none\" color=\"black\" stroke=\"currentColor\" stroke-width=\"1.00\" stroke-linecap=\"butt\" stroke-linejoin=\"miter\">\n",
       "\t<path stroke='black'  d='M53.3,346.0 L63.8,346.0 M570.8,346.0 L560.3,346.0  '/>\t<g transform=\"translate(43.6,350.6)\" stroke=\"none\" fill=\"black\" font-family=\"Arial\" font-size=\"14.00\"  text-anchor=\"end\">\n",
       "\t\t<text><tspan font-family=\"Arial\" > 2</tspan></text>\n",
       "\t</g>\n",
       "</g>\n",
       "<g fill=\"none\" color=\"black\" stroke=\"currentColor\" stroke-width=\"1.00\" stroke-linecap=\"butt\" stroke-linejoin=\"miter\">\n",
       "\t<path stroke='black'  d='M53.3,268.4 L63.8,268.4 M570.8,268.4 L560.3,268.4  '/>\t<g transform=\"translate(43.6,273.0)\" stroke=\"none\" fill=\"black\" font-family=\"Arial\" font-size=\"14.00\"  text-anchor=\"end\">\n",
       "\t\t<text><tspan font-family=\"Arial\" > 4</tspan></text>\n",
       "\t</g>\n",
       "</g>\n",
       "<g fill=\"none\" color=\"black\" stroke=\"currentColor\" stroke-width=\"1.00\" stroke-linecap=\"butt\" stroke-linejoin=\"miter\">\n",
       "\t<path stroke='black'  d='M53.3,190.7 L63.8,190.7 M570.8,190.7 L560.3,190.7  '/>\t<g transform=\"translate(43.6,195.3)\" stroke=\"none\" fill=\"black\" font-family=\"Arial\" font-size=\"14.00\"  text-anchor=\"end\">\n",
       "\t\t<text><tspan font-family=\"Arial\" > 6</tspan></text>\n",
       "\t</g>\n",
       "</g>\n",
       "<g fill=\"none\" color=\"black\" stroke=\"currentColor\" stroke-width=\"1.00\" stroke-linecap=\"butt\" stroke-linejoin=\"miter\">\n",
       "\t<path stroke='black'  d='M53.3,113.1 L63.8,113.1 M570.8,113.1 L560.3,113.1  '/>\t<g transform=\"translate(43.6,117.7)\" stroke=\"none\" fill=\"black\" font-family=\"Arial\" font-size=\"14.00\"  text-anchor=\"end\">\n",
       "\t\t<text><tspan font-family=\"Arial\" > 8</tspan></text>\n",
       "\t</g>\n",
       "</g>\n",
       "<g fill=\"none\" color=\"black\" stroke=\"currentColor\" stroke-width=\"1.00\" stroke-linecap=\"butt\" stroke-linejoin=\"miter\">\n",
       "\t<path stroke='black'  d='M53.3,35.5 L63.8,35.5 M570.8,35.5 L560.3,35.5  '/>\t<g transform=\"translate(43.6,40.1)\" stroke=\"none\" fill=\"black\" font-family=\"Arial\" font-size=\"14.00\"  text-anchor=\"end\">\n",
       "\t\t<text><tspan font-family=\"Arial\" > 10</tspan></text>\n",
       "\t</g>\n",
       "</g>\n",
       "<g fill=\"none\" color=\"black\" stroke=\"currentColor\" stroke-width=\"1.00\" stroke-linecap=\"butt\" stroke-linejoin=\"miter\">\n",
       "\t<path stroke='black'  d='M53.3,423.6 L53.3,413.1 M53.3,35.5 L53.3,46.0  '/>\t<g transform=\"translate(53.3,449.2)\" stroke=\"none\" fill=\"black\" font-family=\"Arial\" font-size=\"14.00\"  text-anchor=\"middle\">\n",
       "\t\t<text><tspan font-family=\"Arial\" > 0</tspan></text>\n",
       "\t</g>\n",
       "</g>\n",
       "<g fill=\"none\" color=\"black\" stroke=\"currentColor\" stroke-width=\"1.00\" stroke-linecap=\"butt\" stroke-linejoin=\"miter\">\n",
       "\t<path stroke='black'  d='M118.0,423.6 L118.0,413.1 M118.0,35.5 L118.0,46.0  '/>\t<g transform=\"translate(118.0,449.2)\" stroke=\"none\" fill=\"black\" font-family=\"Arial\" font-size=\"14.00\"  text-anchor=\"middle\">\n",
       "\t\t<text><tspan font-family=\"Arial\" > 0.5</tspan></text>\n",
       "\t</g>\n",
       "</g>\n",
       "<g fill=\"none\" color=\"black\" stroke=\"currentColor\" stroke-width=\"1.00\" stroke-linecap=\"butt\" stroke-linejoin=\"miter\">\n",
       "\t<path stroke='black'  d='M182.7,423.6 L182.7,413.1 M182.7,35.5 L182.7,46.0  '/>\t<g transform=\"translate(182.7,449.2)\" stroke=\"none\" fill=\"black\" font-family=\"Arial\" font-size=\"14.00\"  text-anchor=\"middle\">\n",
       "\t\t<text><tspan font-family=\"Arial\" > 1</tspan></text>\n",
       "\t</g>\n",
       "</g>\n",
       "<g fill=\"none\" color=\"black\" stroke=\"currentColor\" stroke-width=\"1.00\" stroke-linecap=\"butt\" stroke-linejoin=\"miter\">\n",
       "\t<path stroke='black'  d='M247.4,423.6 L247.4,413.1 M247.4,35.5 L247.4,46.0  '/>\t<g transform=\"translate(247.4,449.2)\" stroke=\"none\" fill=\"black\" font-family=\"Arial\" font-size=\"14.00\"  text-anchor=\"middle\">\n",
       "\t\t<text><tspan font-family=\"Arial\" > 1.5</tspan></text>\n",
       "\t</g>\n",
       "</g>\n",
       "<g fill=\"none\" color=\"black\" stroke=\"currentColor\" stroke-width=\"1.00\" stroke-linecap=\"butt\" stroke-linejoin=\"miter\">\n",
       "\t<path stroke='black'  d='M312.1,423.6 L312.1,413.1 M312.1,35.5 L312.1,46.0  '/>\t<g transform=\"translate(312.1,449.2)\" stroke=\"none\" fill=\"black\" font-family=\"Arial\" font-size=\"14.00\"  text-anchor=\"middle\">\n",
       "\t\t<text><tspan font-family=\"Arial\" > 2</tspan></text>\n",
       "\t</g>\n",
       "</g>\n",
       "<g fill=\"none\" color=\"black\" stroke=\"currentColor\" stroke-width=\"1.00\" stroke-linecap=\"butt\" stroke-linejoin=\"miter\">\n",
       "\t<path stroke='black'  d='M376.7,423.6 L376.7,413.1 M376.7,35.5 L376.7,46.0  '/>\t<g transform=\"translate(376.7,449.2)\" stroke=\"none\" fill=\"black\" font-family=\"Arial\" font-size=\"14.00\"  text-anchor=\"middle\">\n",
       "\t\t<text><tspan font-family=\"Arial\" > 2.5</tspan></text>\n",
       "\t</g>\n",
       "</g>\n",
       "<g fill=\"none\" color=\"black\" stroke=\"currentColor\" stroke-width=\"1.00\" stroke-linecap=\"butt\" stroke-linejoin=\"miter\">\n",
       "\t<path stroke='black'  d='M441.4,423.6 L441.4,413.1 M441.4,35.5 L441.4,46.0  '/>\t<g transform=\"translate(441.4,449.2)\" stroke=\"none\" fill=\"black\" font-family=\"Arial\" font-size=\"14.00\"  text-anchor=\"middle\">\n",
       "\t\t<text><tspan font-family=\"Arial\" > 3</tspan></text>\n",
       "\t</g>\n",
       "</g>\n",
       "<g fill=\"none\" color=\"black\" stroke=\"currentColor\" stroke-width=\"1.00\" stroke-linecap=\"butt\" stroke-linejoin=\"miter\">\n",
       "\t<path stroke='black'  d='M506.1,423.6 L506.1,413.1 M506.1,35.5 L506.1,46.0  '/>\t<g transform=\"translate(506.1,449.2)\" stroke=\"none\" fill=\"black\" font-family=\"Arial\" font-size=\"14.00\"  text-anchor=\"middle\">\n",
       "\t\t<text><tspan font-family=\"Arial\" > 3.5</tspan></text>\n",
       "\t</g>\n",
       "</g>\n",
       "<g fill=\"none\" color=\"black\" stroke=\"currentColor\" stroke-width=\"1.00\" stroke-linecap=\"butt\" stroke-linejoin=\"miter\">\n",
       "\t<path stroke='black'  d='M570.8,423.6 L570.8,413.1 M570.8,35.5 L570.8,46.0  '/>\t<g transform=\"translate(570.8,449.2)\" stroke=\"none\" fill=\"black\" font-family=\"Arial\" font-size=\"14.00\"  text-anchor=\"middle\">\n",
       "\t\t<text><tspan font-family=\"Arial\" > 4</tspan></text>\n",
       "\t</g>\n",
       "</g>\n",
       "<g fill=\"none\" color=\"black\" stroke=\"currentColor\" stroke-width=\"1.00\" stroke-linecap=\"butt\" stroke-linejoin=\"miter\">\n",
       "</g>\n",
       "<g fill=\"none\" color=\"gray\" stroke=\"currentColor\" stroke-width=\"1.00\" stroke-linecap=\"butt\" stroke-linejoin=\"miter\">\n",
       "\t<path stroke='black' stroke-dasharray='2,4'  d='M53.3,423.6 L570.8,423.6  '/></g>\n",
       "<g fill=\"none\" color=\"gray\" stroke=\"currentColor\" stroke-width=\"1.00\" stroke-linecap=\"butt\" stroke-linejoin=\"miter\">\n",
       "\t<path stroke='black' stroke-dasharray='2,4'  d='M53.3,423.6 L53.3,35.5  '/></g>\n",
       "<g fill=\"none\" color=\"gray\" stroke=\"black\" stroke-width=\"2.00\" stroke-linecap=\"butt\" stroke-linejoin=\"miter\">\n",
       "</g>\n",
       "<g fill=\"none\" color=\"black\" stroke=\"currentColor\" stroke-width=\"2.00\" stroke-linecap=\"butt\" stroke-linejoin=\"miter\">\n",
       "</g>\n",
       "<g fill=\"none\" color=\"black\" stroke=\"black\" stroke-width=\"1.00\" stroke-linecap=\"butt\" stroke-linejoin=\"miter\">\n",
       "</g>\n",
       "<g fill=\"none\" color=\"black\" stroke=\"currentColor\" stroke-width=\"1.00\" stroke-linecap=\"butt\" stroke-linejoin=\"miter\">\n",
       "\t<path stroke='black'  d='M53.3,35.5 L53.3,423.6 L570.8,423.6 L570.8,35.5 L53.3,35.5 Z  '/></g>\n",
       "<g fill=\"none\" color=\"black\" stroke=\"currentColor\" stroke-width=\"1.00\" stroke-linecap=\"butt\" stroke-linejoin=\"miter\">\n",
       "</g>\n",
       "</g>\n",
       "</svg>\n",
       "\n"
      ],
      "text/plain": [
       "/tmp/maxplot.svg"
      ]
     },
     "metadata": {},
     "output_type": "display_data"
    }
   ],
   "source": [
    "plot2d([[discrete,xy0],\n",
    "        [discrete,xy1],\n",
    "        [discrete,xy2],\n",
    "        [discrete,xy3],\n",
    "        [discrete,xy4],\n",
    "        [discrete,xy5],\n",
    "        [discrete,xy6],\n",
    "        [discrete,xy7]], [x, 0, 4], [y, 0, 10])$"
   ]
  },
  {
   "cell_type": "code",
   "execution_count": null,
   "metadata": {},
   "outputs": [],
   "source": []
  }
 ],
 "metadata": {
  "kernelspec": {
   "display_name": "Maxima",
   "language": "maxima",
   "name": "maxima"
  },
  "language_info": {
   "codemirror_mode": "maxima",
   "file_extension": ".mac",
   "mimetype": "text/x-maxima",
   "name": "maxima",
   "pygments_lexer": "maxima",
   "version": "5.43.0"
  }
 },
 "nbformat": 4,
 "nbformat_minor": 2
}
